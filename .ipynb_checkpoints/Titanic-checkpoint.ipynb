{
 "cells": [
  {
   "cell_type": "markdown",
   "metadata": {},
   "source": [
    "# Titanic Challange"
   ]
  },
  {
   "cell_type": "markdown",
   "metadata": {},
   "source": [
    "This is my first attempt at a kaggle competition. I used the [Titanic dataset](https://www.kaggle.com/c/titanic), which proposes an analysis regarding the study of which population would be more likely to survive the Titanic incident. \n",
    "\n",
    "In this solution, I went through the following steps:\n",
    "- Reading and analysing the data\n",
    "- Exploring and creating useful functions to visualize the data\n",
    "- Feature Engineering\n",
    "- Data preparation\n",
    "- Model biulding and analysis of performance\n",
    "- Fine tuning"
   ]
  },
  {
   "cell_type": "markdown",
   "metadata": {},
   "source": [
    "## Reading and analysing the data"
   ]
  },
  {
   "cell_type": "markdown",
   "metadata": {},
   "source": [
    "Importing basic libraries:"
   ]
  },
  {
   "cell_type": "code",
   "execution_count": 44,
   "metadata": {},
   "outputs": [],
   "source": [
    "import sys\n",
    "sys.path.append('./lib/python2.7/site-packages')\n",
    "\n",
    "import numpy as np\n",
    "\n",
    "import pandas as pd\n",
    "\n",
    "%matplotlib inline \n",
    "import matplotlib.pyplot as plt\n",
    "\n",
    "import seaborn as sns"
   ]
  },
  {
   "cell_type": "markdown",
   "metadata": {},
   "source": [
    "Reading the data:"
   ]
  },
  {
   "cell_type": "code",
   "execution_count": 86,
   "metadata": {},
   "outputs": [],
   "source": [
    "test_path = 'datasets/test.csv'\n",
    "train_path = 'datasets/train.csv'\n",
    "\n",
    "test_set = pd.read_csv(test_path)\n",
    "train_set = pd.read_csv(train_path)"
   ]
  },
  {
   "cell_type": "markdown",
   "metadata": {},
   "source": [
    "Displaying some basic information about the test set:"
   ]
  },
  {
   "cell_type": "code",
   "execution_count": 46,
   "metadata": {},
   "outputs": [
    {
     "data": {
      "text/html": [
       "<div>\n",
       "<style scoped>\n",
       "    .dataframe tbody tr th:only-of-type {\n",
       "        vertical-align: middle;\n",
       "    }\n",
       "\n",
       "    .dataframe tbody tr th {\n",
       "        vertical-align: top;\n",
       "    }\n",
       "\n",
       "    .dataframe thead th {\n",
       "        text-align: right;\n",
       "    }\n",
       "</style>\n",
       "<table border=\"1\" class=\"dataframe\">\n",
       "  <thead>\n",
       "    <tr style=\"text-align: right;\">\n",
       "      <th></th>\n",
       "      <th>PassengerId</th>\n",
       "      <th>Pclass</th>\n",
       "      <th>Name</th>\n",
       "      <th>Sex</th>\n",
       "      <th>Age</th>\n",
       "      <th>SibSp</th>\n",
       "      <th>Parch</th>\n",
       "      <th>Ticket</th>\n",
       "      <th>Fare</th>\n",
       "      <th>Cabin</th>\n",
       "      <th>Embarked</th>\n",
       "    </tr>\n",
       "  </thead>\n",
       "  <tbody>\n",
       "    <tr>\n",
       "      <th>0</th>\n",
       "      <td>892</td>\n",
       "      <td>3</td>\n",
       "      <td>Kelly, Mr. James</td>\n",
       "      <td>male</td>\n",
       "      <td>34.5</td>\n",
       "      <td>0</td>\n",
       "      <td>0</td>\n",
       "      <td>330911</td>\n",
       "      <td>7.8292</td>\n",
       "      <td>NaN</td>\n",
       "      <td>Q</td>\n",
       "    </tr>\n",
       "    <tr>\n",
       "      <th>1</th>\n",
       "      <td>893</td>\n",
       "      <td>3</td>\n",
       "      <td>Wilkes, Mrs. James (Ellen Needs)</td>\n",
       "      <td>female</td>\n",
       "      <td>47.0</td>\n",
       "      <td>1</td>\n",
       "      <td>0</td>\n",
       "      <td>363272</td>\n",
       "      <td>7.0000</td>\n",
       "      <td>NaN</td>\n",
       "      <td>S</td>\n",
       "    </tr>\n",
       "    <tr>\n",
       "      <th>2</th>\n",
       "      <td>894</td>\n",
       "      <td>2</td>\n",
       "      <td>Myles, Mr. Thomas Francis</td>\n",
       "      <td>male</td>\n",
       "      <td>62.0</td>\n",
       "      <td>0</td>\n",
       "      <td>0</td>\n",
       "      <td>240276</td>\n",
       "      <td>9.6875</td>\n",
       "      <td>NaN</td>\n",
       "      <td>Q</td>\n",
       "    </tr>\n",
       "    <tr>\n",
       "      <th>3</th>\n",
       "      <td>895</td>\n",
       "      <td>3</td>\n",
       "      <td>Wirz, Mr. Albert</td>\n",
       "      <td>male</td>\n",
       "      <td>27.0</td>\n",
       "      <td>0</td>\n",
       "      <td>0</td>\n",
       "      <td>315154</td>\n",
       "      <td>8.6625</td>\n",
       "      <td>NaN</td>\n",
       "      <td>S</td>\n",
       "    </tr>\n",
       "    <tr>\n",
       "      <th>4</th>\n",
       "      <td>896</td>\n",
       "      <td>3</td>\n",
       "      <td>Hirvonen, Mrs. Alexander (Helga E Lindqvist)</td>\n",
       "      <td>female</td>\n",
       "      <td>22.0</td>\n",
       "      <td>1</td>\n",
       "      <td>1</td>\n",
       "      <td>3101298</td>\n",
       "      <td>12.2875</td>\n",
       "      <td>NaN</td>\n",
       "      <td>S</td>\n",
       "    </tr>\n",
       "  </tbody>\n",
       "</table>\n",
       "</div>"
      ],
      "text/plain": [
       "   PassengerId  Pclass                                          Name     Sex  \\\n",
       "0          892       3                              Kelly, Mr. James    male   \n",
       "1          893       3              Wilkes, Mrs. James (Ellen Needs)  female   \n",
       "2          894       2                     Myles, Mr. Thomas Francis    male   \n",
       "3          895       3                              Wirz, Mr. Albert    male   \n",
       "4          896       3  Hirvonen, Mrs. Alexander (Helga E Lindqvist)  female   \n",
       "\n",
       "    Age  SibSp  Parch   Ticket     Fare Cabin Embarked  \n",
       "0  34.5      0      0   330911   7.8292   NaN        Q  \n",
       "1  47.0      1      0   363272   7.0000   NaN        S  \n",
       "2  62.0      0      0   240276   9.6875   NaN        Q  \n",
       "3  27.0      0      0   315154   8.6625   NaN        S  \n",
       "4  22.0      1      1  3101298  12.2875   NaN        S  "
      ]
     },
     "execution_count": 46,
     "metadata": {},
     "output_type": "execute_result"
    }
   ],
   "source": [
    "test_set.head()"
   ]
  },
  {
   "cell_type": "code",
   "execution_count": 47,
   "metadata": {},
   "outputs": [
    {
     "name": "stdout",
     "output_type": "stream",
     "text": [
      "<class 'pandas.core.frame.DataFrame'>\n",
      "RangeIndex: 418 entries, 0 to 417\n",
      "Data columns (total 11 columns):\n",
      " #   Column       Non-Null Count  Dtype  \n",
      "---  ------       --------------  -----  \n",
      " 0   PassengerId  418 non-null    int64  \n",
      " 1   Pclass       418 non-null    int64  \n",
      " 2   Name         418 non-null    object \n",
      " 3   Sex          418 non-null    object \n",
      " 4   Age          332 non-null    float64\n",
      " 5   SibSp        418 non-null    int64  \n",
      " 6   Parch        418 non-null    int64  \n",
      " 7   Ticket       418 non-null    object \n",
      " 8   Fare         417 non-null    float64\n",
      " 9   Cabin        91 non-null     object \n",
      " 10  Embarked     418 non-null    object \n",
      "dtypes: float64(2), int64(4), object(5)\n",
      "memory usage: 36.0+ KB\n"
     ]
    }
   ],
   "source": [
    "test_set.info()"
   ]
  },
  {
   "cell_type": "markdown",
   "metadata": {},
   "source": [
    "Displaying some information about the train set too:"
   ]
  },
  {
   "cell_type": "code",
   "execution_count": 48,
   "metadata": {},
   "outputs": [
    {
     "data": {
      "text/html": [
       "<div>\n",
       "<style scoped>\n",
       "    .dataframe tbody tr th:only-of-type {\n",
       "        vertical-align: middle;\n",
       "    }\n",
       "\n",
       "    .dataframe tbody tr th {\n",
       "        vertical-align: top;\n",
       "    }\n",
       "\n",
       "    .dataframe thead th {\n",
       "        text-align: right;\n",
       "    }\n",
       "</style>\n",
       "<table border=\"1\" class=\"dataframe\">\n",
       "  <thead>\n",
       "    <tr style=\"text-align: right;\">\n",
       "      <th></th>\n",
       "      <th>PassengerId</th>\n",
       "      <th>Survived</th>\n",
       "      <th>Pclass</th>\n",
       "      <th>Name</th>\n",
       "      <th>Sex</th>\n",
       "      <th>Age</th>\n",
       "      <th>SibSp</th>\n",
       "      <th>Parch</th>\n",
       "      <th>Ticket</th>\n",
       "      <th>Fare</th>\n",
       "      <th>Cabin</th>\n",
       "      <th>Embarked</th>\n",
       "    </tr>\n",
       "  </thead>\n",
       "  <tbody>\n",
       "    <tr>\n",
       "      <th>0</th>\n",
       "      <td>1</td>\n",
       "      <td>0</td>\n",
       "      <td>3</td>\n",
       "      <td>Braund, Mr. Owen Harris</td>\n",
       "      <td>male</td>\n",
       "      <td>22.0</td>\n",
       "      <td>1</td>\n",
       "      <td>0</td>\n",
       "      <td>A/5 21171</td>\n",
       "      <td>7.2500</td>\n",
       "      <td>NaN</td>\n",
       "      <td>S</td>\n",
       "    </tr>\n",
       "    <tr>\n",
       "      <th>1</th>\n",
       "      <td>2</td>\n",
       "      <td>1</td>\n",
       "      <td>1</td>\n",
       "      <td>Cumings, Mrs. John Bradley (Florence Briggs Th...</td>\n",
       "      <td>female</td>\n",
       "      <td>38.0</td>\n",
       "      <td>1</td>\n",
       "      <td>0</td>\n",
       "      <td>PC 17599</td>\n",
       "      <td>71.2833</td>\n",
       "      <td>C85</td>\n",
       "      <td>C</td>\n",
       "    </tr>\n",
       "    <tr>\n",
       "      <th>2</th>\n",
       "      <td>3</td>\n",
       "      <td>1</td>\n",
       "      <td>3</td>\n",
       "      <td>Heikkinen, Miss. Laina</td>\n",
       "      <td>female</td>\n",
       "      <td>26.0</td>\n",
       "      <td>0</td>\n",
       "      <td>0</td>\n",
       "      <td>STON/O2. 3101282</td>\n",
       "      <td>7.9250</td>\n",
       "      <td>NaN</td>\n",
       "      <td>S</td>\n",
       "    </tr>\n",
       "    <tr>\n",
       "      <th>3</th>\n",
       "      <td>4</td>\n",
       "      <td>1</td>\n",
       "      <td>1</td>\n",
       "      <td>Futrelle, Mrs. Jacques Heath (Lily May Peel)</td>\n",
       "      <td>female</td>\n",
       "      <td>35.0</td>\n",
       "      <td>1</td>\n",
       "      <td>0</td>\n",
       "      <td>113803</td>\n",
       "      <td>53.1000</td>\n",
       "      <td>C123</td>\n",
       "      <td>S</td>\n",
       "    </tr>\n",
       "    <tr>\n",
       "      <th>4</th>\n",
       "      <td>5</td>\n",
       "      <td>0</td>\n",
       "      <td>3</td>\n",
       "      <td>Allen, Mr. William Henry</td>\n",
       "      <td>male</td>\n",
       "      <td>35.0</td>\n",
       "      <td>0</td>\n",
       "      <td>0</td>\n",
       "      <td>373450</td>\n",
       "      <td>8.0500</td>\n",
       "      <td>NaN</td>\n",
       "      <td>S</td>\n",
       "    </tr>\n",
       "  </tbody>\n",
       "</table>\n",
       "</div>"
      ],
      "text/plain": [
       "   PassengerId  Survived  Pclass  \\\n",
       "0            1         0       3   \n",
       "1            2         1       1   \n",
       "2            3         1       3   \n",
       "3            4         1       1   \n",
       "4            5         0       3   \n",
       "\n",
       "                                                Name     Sex   Age  SibSp  \\\n",
       "0                            Braund, Mr. Owen Harris    male  22.0      1   \n",
       "1  Cumings, Mrs. John Bradley (Florence Briggs Th...  female  38.0      1   \n",
       "2                             Heikkinen, Miss. Laina  female  26.0      0   \n",
       "3       Futrelle, Mrs. Jacques Heath (Lily May Peel)  female  35.0      1   \n",
       "4                           Allen, Mr. William Henry    male  35.0      0   \n",
       "\n",
       "   Parch            Ticket     Fare Cabin Embarked  \n",
       "0      0         A/5 21171   7.2500   NaN        S  \n",
       "1      0          PC 17599  71.2833   C85        C  \n",
       "2      0  STON/O2. 3101282   7.9250   NaN        S  \n",
       "3      0            113803  53.1000  C123        S  \n",
       "4      0            373450   8.0500   NaN        S  "
      ]
     },
     "execution_count": 48,
     "metadata": {},
     "output_type": "execute_result"
    }
   ],
   "source": [
    "train_set.head()"
   ]
  },
  {
   "cell_type": "code",
   "execution_count": 49,
   "metadata": {},
   "outputs": [
    {
     "name": "stdout",
     "output_type": "stream",
     "text": [
      "<class 'pandas.core.frame.DataFrame'>\n",
      "RangeIndex: 891 entries, 0 to 890\n",
      "Data columns (total 12 columns):\n",
      " #   Column       Non-Null Count  Dtype  \n",
      "---  ------       --------------  -----  \n",
      " 0   PassengerId  891 non-null    int64  \n",
      " 1   Survived     891 non-null    int64  \n",
      " 2   Pclass       891 non-null    int64  \n",
      " 3   Name         891 non-null    object \n",
      " 4   Sex          891 non-null    object \n",
      " 5   Age          714 non-null    float64\n",
      " 6   SibSp        891 non-null    int64  \n",
      " 7   Parch        891 non-null    int64  \n",
      " 8   Ticket       891 non-null    object \n",
      " 9   Fare         891 non-null    float64\n",
      " 10  Cabin        204 non-null    object \n",
      " 11  Embarked     889 non-null    object \n",
      "dtypes: float64(2), int64(5), object(5)\n",
      "memory usage: 83.7+ KB\n"
     ]
    }
   ],
   "source": [
    "train_set.info()"
   ]
  },
  {
   "cell_type": "code",
   "execution_count": 50,
   "metadata": {},
   "outputs": [
    {
     "data": {
      "text/html": [
       "<div>\n",
       "<style scoped>\n",
       "    .dataframe tbody tr th:only-of-type {\n",
       "        vertical-align: middle;\n",
       "    }\n",
       "\n",
       "    .dataframe tbody tr th {\n",
       "        vertical-align: top;\n",
       "    }\n",
       "\n",
       "    .dataframe thead th {\n",
       "        text-align: right;\n",
       "    }\n",
       "</style>\n",
       "<table border=\"1\" class=\"dataframe\">\n",
       "  <thead>\n",
       "    <tr style=\"text-align: right;\">\n",
       "      <th></th>\n",
       "      <th>PassengerId</th>\n",
       "      <th>Survived</th>\n",
       "      <th>Pclass</th>\n",
       "      <th>Age</th>\n",
       "      <th>SibSp</th>\n",
       "      <th>Parch</th>\n",
       "      <th>Fare</th>\n",
       "    </tr>\n",
       "  </thead>\n",
       "  <tbody>\n",
       "    <tr>\n",
       "      <th>count</th>\n",
       "      <td>891.000000</td>\n",
       "      <td>891.000000</td>\n",
       "      <td>891.000000</td>\n",
       "      <td>714.000000</td>\n",
       "      <td>891.000000</td>\n",
       "      <td>891.000000</td>\n",
       "      <td>891.000000</td>\n",
       "    </tr>\n",
       "    <tr>\n",
       "      <th>mean</th>\n",
       "      <td>446.000000</td>\n",
       "      <td>0.383838</td>\n",
       "      <td>2.308642</td>\n",
       "      <td>29.699118</td>\n",
       "      <td>0.523008</td>\n",
       "      <td>0.381594</td>\n",
       "      <td>32.204208</td>\n",
       "    </tr>\n",
       "    <tr>\n",
       "      <th>std</th>\n",
       "      <td>257.353842</td>\n",
       "      <td>0.486592</td>\n",
       "      <td>0.836071</td>\n",
       "      <td>14.526497</td>\n",
       "      <td>1.102743</td>\n",
       "      <td>0.806057</td>\n",
       "      <td>49.693429</td>\n",
       "    </tr>\n",
       "    <tr>\n",
       "      <th>min</th>\n",
       "      <td>1.000000</td>\n",
       "      <td>0.000000</td>\n",
       "      <td>1.000000</td>\n",
       "      <td>0.420000</td>\n",
       "      <td>0.000000</td>\n",
       "      <td>0.000000</td>\n",
       "      <td>0.000000</td>\n",
       "    </tr>\n",
       "    <tr>\n",
       "      <th>25%</th>\n",
       "      <td>223.500000</td>\n",
       "      <td>0.000000</td>\n",
       "      <td>2.000000</td>\n",
       "      <td>20.125000</td>\n",
       "      <td>0.000000</td>\n",
       "      <td>0.000000</td>\n",
       "      <td>7.910400</td>\n",
       "    </tr>\n",
       "    <tr>\n",
       "      <th>50%</th>\n",
       "      <td>446.000000</td>\n",
       "      <td>0.000000</td>\n",
       "      <td>3.000000</td>\n",
       "      <td>28.000000</td>\n",
       "      <td>0.000000</td>\n",
       "      <td>0.000000</td>\n",
       "      <td>14.454200</td>\n",
       "    </tr>\n",
       "    <tr>\n",
       "      <th>75%</th>\n",
       "      <td>668.500000</td>\n",
       "      <td>1.000000</td>\n",
       "      <td>3.000000</td>\n",
       "      <td>38.000000</td>\n",
       "      <td>1.000000</td>\n",
       "      <td>0.000000</td>\n",
       "      <td>31.000000</td>\n",
       "    </tr>\n",
       "    <tr>\n",
       "      <th>max</th>\n",
       "      <td>891.000000</td>\n",
       "      <td>1.000000</td>\n",
       "      <td>3.000000</td>\n",
       "      <td>80.000000</td>\n",
       "      <td>8.000000</td>\n",
       "      <td>6.000000</td>\n",
       "      <td>512.329200</td>\n",
       "    </tr>\n",
       "  </tbody>\n",
       "</table>\n",
       "</div>"
      ],
      "text/plain": [
       "       PassengerId    Survived      Pclass         Age       SibSp  \\\n",
       "count   891.000000  891.000000  891.000000  714.000000  891.000000   \n",
       "mean    446.000000    0.383838    2.308642   29.699118    0.523008   \n",
       "std     257.353842    0.486592    0.836071   14.526497    1.102743   \n",
       "min       1.000000    0.000000    1.000000    0.420000    0.000000   \n",
       "25%     223.500000    0.000000    2.000000   20.125000    0.000000   \n",
       "50%     446.000000    0.000000    3.000000   28.000000    0.000000   \n",
       "75%     668.500000    1.000000    3.000000   38.000000    1.000000   \n",
       "max     891.000000    1.000000    3.000000   80.000000    8.000000   \n",
       "\n",
       "            Parch        Fare  \n",
       "count  891.000000  891.000000  \n",
       "mean     0.381594   32.204208  \n",
       "std      0.806057   49.693429  \n",
       "min      0.000000    0.000000  \n",
       "25%      0.000000    7.910400  \n",
       "50%      0.000000   14.454200  \n",
       "75%      0.000000   31.000000  \n",
       "max      6.000000  512.329200  "
      ]
     },
     "execution_count": 50,
     "metadata": {},
     "output_type": "execute_result"
    }
   ],
   "source": [
    "train_set.describe()"
   ]
  },
  {
   "cell_type": "markdown",
   "metadata": {},
   "source": [
    "From the `info()` method, it can be seen that the \"Cabin\" attribute has only 204 non-null values of all the 891 entries in the train set. This can be better visualized by using `seaborn` heatmaps:"
   ]
  },
  {
   "cell_type": "code",
   "execution_count": 51,
   "metadata": {},
   "outputs": [],
   "source": [
    "def data_investigation(data):\n",
    "    print('Number of instances : ' + str(data.shape[0]))\n",
    "    print('Number of variables : ' + str(data.shape[1]))\n",
    "    print('-'*20)\n",
    "    print('Attributes, data type and ratio of unique instances por total non-null:')\n",
    "    for i in range(data.shape[1]):\n",
    "        print('\\t - ' + str(data.columns[i]) + ', ' + str(data.dtypes[i]) \n",
    "              + ', ' + str(len(data[data.columns[i]].value_counts())) + '/' + \n",
    "             str(sum(data[data.columns[i]].value_counts())))\n",
    "    \n",
    "    print('-'*20)\n",
    "    print('Attributes that have missing values: ')\n",
    "    sum_missing_val = data.isnull().sum()\n",
    "    print(sum_missing_val[sum_missing_val>0])\n",
    "    print('-'*20)\n",
    "    print('Pictorial representation of missing values:')\n",
    "    plt.figure(figsize=(10,8))\n",
    "    sns.heatmap(data.isnull(), yticklabels = False, cmap = 'gray')\n",
    "    plt.show()"
   ]
  },
  {
   "cell_type": "code",
   "execution_count": 52,
   "metadata": {},
   "outputs": [
    {
     "name": "stdout",
     "output_type": "stream",
     "text": [
      "Number of instances : 891\n",
      "Number of variables : 12\n",
      "--------------------\n",
      "Attributes, data type and ratio of unique instances por total non-null:\n",
      "\t - PassengerId, int64, 891/891\n",
      "\t - Survived, int64, 2/891\n",
      "\t - Pclass, int64, 3/891\n",
      "\t - Name, object, 891/891\n",
      "\t - Sex, object, 2/891\n",
      "\t - Age, float64, 88/714\n",
      "\t - SibSp, int64, 7/891\n",
      "\t - Parch, int64, 7/891\n",
      "\t - Ticket, object, 681/891\n",
      "\t - Fare, float64, 248/891\n",
      "\t - Cabin, object, 147/204\n",
      "\t - Embarked, object, 3/889\n",
      "--------------------\n",
      "Attributes that have missing values: \n",
      "Age         177\n",
      "Cabin       687\n",
      "Embarked      2\n",
      "dtype: int64\n",
      "--------------------\n",
      "Pictorial representation of missing values:\n"
     ]
    },
    {
     "data": {
      "image/png": "[encoded data removed]",
      "text/plain": [
       "<Figure size 720x576 with 2 Axes>"
      ]
     },
     "metadata": {
      "needs_background": "light"
     },
     "output_type": "display_data"
    }
   ],
   "source": [
    "data_investigation(train_set)"
   ]
  },
  {
   "cell_type": "code",
   "execution_count": 53,
   "metadata": {},
   "outputs": [
    {
     "name": "stdout",
     "output_type": "stream",
     "text": [
      "Number of instances : 418\n",
      "Number of variables : 11\n",
      "--------------------\n",
      "Attributes, data type and ratio of unique instances por total non-null:\n",
      "\t - PassengerId, int64, 418/418\n",
      "\t - Pclass, int64, 3/418\n",
      "\t - Name, object, 418/418\n",
      "\t - Sex, object, 2/418\n",
      "\t - Age, float64, 79/332\n",
      "\t - SibSp, int64, 7/418\n",
      "\t - Parch, int64, 8/418\n",
      "\t - Ticket, object, 363/418\n",
      "\t - Fare, float64, 169/417\n",
      "\t - Cabin, object, 76/91\n",
      "\t - Embarked, object, 3/418\n",
      "--------------------\n",
      "Attributes that have missing values: \n",
      "Age       86\n",
      "Fare       1\n",
      "Cabin    327\n",
      "dtype: int64\n",
      "--------------------\n",
      "Pictorial representation of missing values:\n"
     ]
    },
    {
     "data": {
      "image/png": "[encoded data removed]",
      "text/plain": [
       "<Figure size 720x576 with 2 Axes>"
      ]
     },
     "metadata": {
      "needs_background": "light"
     },
     "output_type": "display_data"
    }
   ],
   "source": [
    "data_investigation(test_set)"
   ]
  },
  {
   "cell_type": "markdown",
   "metadata": {},
   "source": [
    "From the descriptive function created above, it can be seen that \"Cabin\" has 147/204 unique values for the training set and 76/91 for the test set. Furthermore, it's object type make it impossible to calculate means or medians or to regress. It is best the to just drop this attribute. But before doing so, I'll keep the original data stored on the variables \"train_set_init\" and \"test_set_init\" so to test full transformations later on."
   ]
  },
  {
   "cell_type": "code",
   "execution_count": 87,
   "metadata": {},
   "outputs": [],
   "source": [
    "train_set_init = train_set\n",
    "test_set_init = test_set"
   ]
  },
  {
   "cell_type": "code",
   "execution_count": 88,
   "metadata": {},
   "outputs": [],
   "source": [
    "def drop_feat(df, attr):\n",
    "    for ft in attr:\n",
    "        if ft in df.columns:\n",
    "            return df.drop(attr, axis = 1)\n",
    "        else:\n",
    "            print('No such feature as ' + ft)\n",
    "\n",
    "train_set = drop_feat(train_set, ['Cabin'])\n",
    "test_set = drop_feat(test_set, ['Cabin'])"
   ]
  },
  {
   "cell_type": "markdown",
   "metadata": {},
   "source": [
    "## Exploring and visualizing the data "
   ]
  },
  {
   "cell_type": "markdown",
   "metadata": {},
   "source": [
    "Aside from the aforementioned analysis, the data can be further investigated in respect to correlations. The goal is to check how much correlation there is between each feature and the target feature (survive). To do so, one can use, for the non-categorical features, correlation metrics such as [Pearson's $r$ coefficient](https://en.wikipedia.org/wiki/Pearson_correlation_coefficient). "
   ]
  },
  {
   "cell_type": "code",
   "execution_count": 89,
   "metadata": {},
   "outputs": [
    {
     "data": {
      "text/html": [
       "<div>\n",
       "<style scoped>\n",
       "    .dataframe tbody tr th:only-of-type {\n",
       "        vertical-align: middle;\n",
       "    }\n",
       "\n",
       "    .dataframe tbody tr th {\n",
       "        vertical-align: top;\n",
       "    }\n",
       "\n",
       "    .dataframe thead th {\n",
       "        text-align: right;\n",
       "    }\n",
       "</style>\n",
       "<table border=\"1\" class=\"dataframe\">\n",
       "  <thead>\n",
       "    <tr style=\"text-align: right;\">\n",
       "      <th></th>\n",
       "      <th>PassengerId</th>\n",
       "      <th>Survived</th>\n",
       "      <th>Pclass</th>\n",
       "      <th>Age</th>\n",
       "      <th>SibSp</th>\n",
       "      <th>Parch</th>\n",
       "      <th>Fare</th>\n",
       "    </tr>\n",
       "  </thead>\n",
       "  <tbody>\n",
       "    <tr>\n",
       "      <th>PassengerId</th>\n",
       "      <td>1.000000</td>\n",
       "      <td>-0.005007</td>\n",
       "      <td>-0.035144</td>\n",
       "      <td>0.036847</td>\n",
       "      <td>-0.057527</td>\n",
       "      <td>-0.001652</td>\n",
       "      <td>0.012658</td>\n",
       "    </tr>\n",
       "    <tr>\n",
       "      <th>Survived</th>\n",
       "      <td>-0.005007</td>\n",
       "      <td>1.000000</td>\n",
       "      <td>-0.338481</td>\n",
       "      <td>-0.077221</td>\n",
       "      <td>-0.035322</td>\n",
       "      <td>0.081629</td>\n",
       "      <td>0.257307</td>\n",
       "    </tr>\n",
       "    <tr>\n",
       "      <th>Pclass</th>\n",
       "      <td>-0.035144</td>\n",
       "      <td>-0.338481</td>\n",
       "      <td>1.000000</td>\n",
       "      <td>-0.369226</td>\n",
       "      <td>0.083081</td>\n",
       "      <td>0.018443</td>\n",
       "      <td>-0.549500</td>\n",
       "    </tr>\n",
       "    <tr>\n",
       "      <th>Age</th>\n",
       "      <td>0.036847</td>\n",
       "      <td>-0.077221</td>\n",
       "      <td>-0.369226</td>\n",
       "      <td>1.000000</td>\n",
       "      <td>-0.308247</td>\n",
       "      <td>-0.189119</td>\n",
       "      <td>0.096067</td>\n",
       "    </tr>\n",
       "    <tr>\n",
       "      <th>SibSp</th>\n",
       "      <td>-0.057527</td>\n",
       "      <td>-0.035322</td>\n",
       "      <td>0.083081</td>\n",
       "      <td>-0.308247</td>\n",
       "      <td>1.000000</td>\n",
       "      <td>0.414838</td>\n",
       "      <td>0.159651</td>\n",
       "    </tr>\n",
       "    <tr>\n",
       "      <th>Parch</th>\n",
       "      <td>-0.001652</td>\n",
       "      <td>0.081629</td>\n",
       "      <td>0.018443</td>\n",
       "      <td>-0.189119</td>\n",
       "      <td>0.414838</td>\n",
       "      <td>1.000000</td>\n",
       "      <td>0.216225</td>\n",
       "    </tr>\n",
       "    <tr>\n",
       "      <th>Fare</th>\n",
       "      <td>0.012658</td>\n",
       "      <td>0.257307</td>\n",
       "      <td>-0.549500</td>\n",
       "      <td>0.096067</td>\n",
       "      <td>0.159651</td>\n",
       "      <td>0.216225</td>\n",
       "      <td>1.000000</td>\n",
       "    </tr>\n",
       "  </tbody>\n",
       "</table>\n",
       "</div>"
      ],
      "text/plain": [
       "             PassengerId  Survived    Pclass       Age     SibSp     Parch  \\\n",
       "PassengerId     1.000000 -0.005007 -0.035144  0.036847 -0.057527 -0.001652   \n",
       "Survived       -0.005007  1.000000 -0.338481 -0.077221 -0.035322  0.081629   \n",
       "Pclass         -0.035144 -0.338481  1.000000 -0.369226  0.083081  0.018443   \n",
       "Age             0.036847 -0.077221 -0.369226  1.000000 -0.308247 -0.189119   \n",
       "SibSp          -0.057527 -0.035322  0.083081 -0.308247  1.000000  0.414838   \n",
       "Parch          -0.001652  0.081629  0.018443 -0.189119  0.414838  1.000000   \n",
       "Fare            0.012658  0.257307 -0.549500  0.096067  0.159651  0.216225   \n",
       "\n",
       "                 Fare  \n",
       "PassengerId  0.012658  \n",
       "Survived     0.257307  \n",
       "Pclass      -0.549500  \n",
       "Age          0.096067  \n",
       "SibSp        0.159651  \n",
       "Parch        0.216225  \n",
       "Fare         1.000000  "
      ]
     },
     "execution_count": 89,
     "metadata": {},
     "output_type": "execute_result"
    }
   ],
   "source": [
    "corr_matrix = train_set.corr()\n",
    "corr_matrix"
   ]
  },
  {
   "cell_type": "code",
   "execution_count": 90,
   "metadata": {},
   "outputs": [
    {
     "data": {
      "image/png": "[encoded data removed]",
      "text/plain": [
       "<Figure size 720x576 with 2 Axes>"
      ]
     },
     "metadata": {
      "needs_background": "light"
     },
     "output_type": "display_data"
    }
   ],
   "source": [
    "def corr_matrix_plot(corr_matrix):\n",
    "    plt.figure(figsize=(10,8))\n",
    "    \n",
    "    ax = sns.heatmap(corr_matrix, vmin=-1, vmax=1, center=0,\n",
    "        cmap=sns.diverging_palette(20, 220, n=200),\n",
    "        square=True)\n",
    "    \n",
    "    ax.set_xticklabels(ax.get_xticklabels(), rotation=45,\n",
    "        horizontalalignment='right');\n",
    "    \n",
    "corr_matrix_plot(corr_matrix)"
   ]
  },
  {
   "cell_type": "markdown",
   "metadata": {},
   "source": [
    "It can be seen that, from the given data, the features that correlate the most with the \"Survived\" attribute are \"Fare\" (positively correlated) and \"Pclass\" (negatively correlated). Later it will be checked if there are any possible feature engineering such as to increase correlation between other features."
   ]
  },
  {
   "cell_type": "markdown",
   "metadata": {},
   "source": [
    "The built-in correlation method from pandas only regard numerical features. As for the categorical features, they are better understood if visualized. It can be plot histograms in order to visualize how they are distributed among their possible classes, and how they are separated between __survived__ and __not survived__ instances. "
   ]
  },
  {
   "cell_type": "code",
   "execution_count": 58,
   "metadata": {},
   "outputs": [],
   "source": [
    "def hist_stack_plot(df, targets):\n",
    "    L = len(targets)\n",
    "    arrang = np.arange(2)\n",
    "    labels_stack = ['Survived', 'Not survived']\n",
    "    \n",
    "    plt.figure(figsize = (12, 12))\n",
    "    for i in range(len(targets)):\n",
    "        plt.subplot(2, L, i+1)\n",
    "        sns.countplot(x = targets[i], data = df)\n",
    "        plt.ylabel(targets[i])\n",
    "        plt.xlabel('')\n",
    "        plt.xticks(rotation=60)\n",
    "        \n",
    "    for i in range(len(targets)):\n",
    "        plt.subplot(2, L, L+i+1)\n",
    "        sur = df[df['Survived'] == 1][targets[i]].value_counts()\n",
    "#        sur = sur.values.reshape((len(sur), 1))\n",
    "        sur_n = np.array(sur)\n",
    "        not_sur = df[df['Survived'] == 0][targets[i]].value_counts()\n",
    "#        not_sur = not_sur.values.reshape((len(not_sur), 1))\n",
    "        not_sur_n = np.array(not_sur)\n",
    "        \n",
    "        if (len(sur) <= len(not_sur)):\n",
    "            lim = len(sur)\n",
    "        else:\n",
    "            lim = len(not_sur)\n",
    "        \n",
    "        for j in range(lim):\n",
    "            a = sur_n[j]\n",
    "            b = not_sur_n[j]\n",
    "            \n",
    "            c = (a, b)\n",
    "            plt.bar(arrang, c, label = sur.index[j])\n",
    "            \n",
    "        plt.xticks(arrang, labels_stack)\n",
    "        plt.ylabel(targets[i])\n",
    "        plt.legend(loc = 'upper left')\n",
    "    \n",
    "    plt.tight_layout()\n",
    "        \n",
    "    plt.show()\n",
    "    \n",
    "def hist_plot(df, target):\n",
    "    J, L = get_subplot_dims(target)\n",
    "    \n",
    "    plt.figure(figsize = (12, 12))\n",
    "    for i in range(len(target)):\n",
    "        plt.subplot(J, L, i+1)\n",
    "        sns.countplot(x = target[i], data = df)\n",
    "        plt.xticks(rotation=60)\n",
    "        \n",
    "    plt.tight_layout()\n",
    "    \n",
    "    plt.show()\n",
    "    \n",
    "def get_subplot_dims(targets):\n",
    "    a = (int(len(targets)/3))*3\n",
    "    \n",
    "    if a == len(targets):\n",
    "        j = int(a/3)\n",
    "    elif a < len(targets):\n",
    "        j = int(a/3) + 1\n",
    "    return(j, 3)    \n"
   ]
  },
  {
   "cell_type": "code",
   "execution_count": 59,
   "metadata": {},
   "outputs": [
    {
     "data": {
      "image/png": "[encoded data removed]",
      "text/plain": [
       "<Figure size 864x864 with 10 Axes>"
      ]
     },
     "metadata": {
      "needs_background": "light"
     },
     "output_type": "display_data"
    }
   ],
   "source": [
    "attr = ['Pclass', 'Sex', 'SibSp', 'Parch', 'Embarked']\n",
    "hist_stack_plot(train_set, attr)"
   ]
  },
  {
   "cell_type": "code",
   "execution_count": 60,
   "metadata": {},
   "outputs": [
    {
     "data": {
      "image/png": "[encoded data removed]",
      "text/plain": [
       "<Figure size 864x864 with 5 Axes>"
      ]
     },
     "metadata": {
      "needs_background": "light"
     },
     "output_type": "display_data"
    }
   ],
   "source": [
    "hist_plot(test_set, attr)"
   ]
  },
  {
   "cell_type": "markdown",
   "metadata": {},
   "source": [
    "Some results are interesting to note from the histogram plots:\n",
    "\n",
    "- Except for the \"Embarked\" attribute, the training and the test set is fairly stratified [(notes on stratified samplig)](https://stats.stackexchange.com/questions/250273/benefits-of-stratified-vs-random-sampling-for-generating-training-data-in-classi)\n",
    "- The correlation between \"Pclass\" and survival can be easily visualized. A higher probability of dying is attributed to the instances that hold the value 1. As the class value increases, the probability of survival scatters a bit, meaning that little correlation happers when \"Pclass\" is 3\n",
    "- The \"Sex\" attribute has a high correlation with survival. Thus, it is mandatory to include it on the training process\n",
    "- The \"SibSp\" and \"Parch\" (number of siblings/spouses and parents/children aboard the Titanic, respectively) more or less follow the Survived/Not survived trend: as the amount of instances shrinks, so do each attribute. As a result, there is low correlation between survival and such attributes"
   ]
  },
  {
   "cell_type": "markdown",
   "metadata": {},
   "source": [
    "The same plots can be done for the numerical data if the nomerical instances are attributed instead to an interval:"
   ]
  },
  {
   "cell_type": "code",
   "execution_count": 61,
   "metadata": {},
   "outputs": [],
   "source": [
    "def cut_df(df, targets, bins):\n",
    "    df_cut = pd.DataFrame(index = df.index, columns = targets)\n",
    "    df_cut['Survived'] = df['Survived']\n",
    "    for i in range(len(targets)):\n",
    "        df_cut[targets[i]] = pd.cut(df[targets[i]], bins[i])\n",
    "    \n",
    "    return df_cut\n",
    "\n",
    "attr = ['Age', 'Fare', 'PassengerId']\n",
    "bins = [5, 5, 5]\n",
    "\n",
    "train_set_cut = cut_df(train_set, attr, bins)"
   ]
  },
  {
   "cell_type": "code",
   "execution_count": 62,
   "metadata": {},
   "outputs": [
    {
     "data": {
      "image/png": "[encoded data removed]",
      "text/plain": [
       "<Figure size 864x864 with 6 Axes>"
      ]
     },
     "metadata": {
      "needs_background": "light"
     },
     "output_type": "display_data"
    }
   ],
   "source": [
    "hist_stack_plot(train_set_cut, attr)"
   ]
  },
  {
   "cell_type": "markdown",
   "metadata": {},
   "source": [
    "Again, no strong correlations could be seen for the \"Age\" and \"Fare\" attributes, except that there is a higher probability of a person with age between 32 and 48 dying and surviving if the age is between 0 and 16. For the \"PassengerId\", obviously there is no correlation."
   ]
  },
  {
   "cell_type": "markdown",
   "metadata": {},
   "source": [
    "## Feature Engineering"
   ]
  },
  {
   "cell_type": "markdown",
   "metadata": {},
   "source": [
    "The goal of feature engineering is to look for transformations over given features in order to stablish new features with greater value to the model, i.e., increasing it's predictive capacity. For this case, one could imagine that the \"SibSp\" and \"Parch\" features could be combined into one \"Family\" attribute, that there could be useful information for the \"Name\" feature,  or that other feature transformations could be tested to check for possible correlations."
   ]
  },
  {
   "cell_type": "markdown",
   "metadata": {},
   "source": [
    "### Using name's title to input missing values on Age"
   ]
  },
  {
   "cell_type": "markdown",
   "metadata": {},
   "source": [
    "As it was seen before, \"Age\" feature has 177 missing values on the training set and 86 for the test set. One could use the `SimpleImputer` class in order to input missing values, using a strategy such as `median`. Instead, it could be checked first if there is any correlation between a person's title and it's age and, if there is, fill the missing values with respect the title using a certain strategy. \n",
    "\n",
    "To extract the titles:"
   ]
  },
  {
   "cell_type": "code",
   "execution_count": 91,
   "metadata": {},
   "outputs": [],
   "source": [
    "def extract_titles(dataset):\n",
    "    dataset['Title'] = dataset['Name'].str.extract(' ([A-Za-z]+)\\.', expand = False)"
   ]
  },
  {
   "cell_type": "code",
   "execution_count": 93,
   "metadata": {},
   "outputs": [
    {
     "data": {
      "text/plain": [
       "Mr          517\n",
       "Miss        182\n",
       "Mrs         125\n",
       "Master       40\n",
       "Dr            7\n",
       "Rev           6\n",
       "Mlle          2\n",
       "Col           2\n",
       "Major         2\n",
       "Sir           1\n",
       "Capt          1\n",
       "Jonkheer      1\n",
       "Don           1\n",
       "Lady          1\n",
       "Countess      1\n",
       "Mme           1\n",
       "Ms            1\n",
       "Name: Title, dtype: int64"
      ]
     },
     "execution_count": 93,
     "metadata": {},
     "output_type": "execute_result"
    }
   ],
   "source": [
    "extract_titles(train_set)\n",
    "extract_titles(test_set)\n",
    "train_set['Title'].value_counts()"
   ]
  },
  {
   "cell_type": "code",
   "execution_count": 94,
   "metadata": {},
   "outputs": [
    {
     "data": {
      "text/html": [
       "<div>\n",
       "<style scoped>\n",
       "    .dataframe tbody tr th:only-of-type {\n",
       "        vertical-align: middle;\n",
       "    }\n",
       "\n",
       "    .dataframe tbody tr th {\n",
       "        vertical-align: top;\n",
       "    }\n",
       "\n",
       "    .dataframe thead th {\n",
       "        text-align: right;\n",
       "    }\n",
       "</style>\n",
       "<table border=\"1\" class=\"dataframe\">\n",
       "  <thead>\n",
       "    <tr style=\"text-align: right;\">\n",
       "      <th></th>\n",
       "      <th>count</th>\n",
       "      <th>mean</th>\n",
       "      <th>std</th>\n",
       "      <th>min</th>\n",
       "      <th>25%</th>\n",
       "      <th>50%</th>\n",
       "      <th>75%</th>\n",
       "      <th>max</th>\n",
       "    </tr>\n",
       "    <tr>\n",
       "      <th>Title</th>\n",
       "      <th></th>\n",
       "      <th></th>\n",
       "      <th></th>\n",
       "      <th></th>\n",
       "      <th></th>\n",
       "      <th></th>\n",
       "      <th></th>\n",
       "      <th></th>\n",
       "    </tr>\n",
       "  </thead>\n",
       "  <tbody>\n",
       "    <tr>\n",
       "      <th>Capt</th>\n",
       "      <td>1.0</td>\n",
       "      <td>70.000000</td>\n",
       "      <td>NaN</td>\n",
       "      <td>70.00</td>\n",
       "      <td>70.000</td>\n",
       "      <td>70.0</td>\n",
       "      <td>70.00</td>\n",
       "      <td>70.0</td>\n",
       "    </tr>\n",
       "    <tr>\n",
       "      <th>Col</th>\n",
       "      <td>2.0</td>\n",
       "      <td>58.000000</td>\n",
       "      <td>2.828427</td>\n",
       "      <td>56.00</td>\n",
       "      <td>57.000</td>\n",
       "      <td>58.0</td>\n",
       "      <td>59.00</td>\n",
       "      <td>60.0</td>\n",
       "    </tr>\n",
       "    <tr>\n",
       "      <th>Countess</th>\n",
       "      <td>1.0</td>\n",
       "      <td>33.000000</td>\n",
       "      <td>NaN</td>\n",
       "      <td>33.00</td>\n",
       "      <td>33.000</td>\n",
       "      <td>33.0</td>\n",
       "      <td>33.00</td>\n",
       "      <td>33.0</td>\n",
       "    </tr>\n",
       "    <tr>\n",
       "      <th>Don</th>\n",
       "      <td>1.0</td>\n",
       "      <td>40.000000</td>\n",
       "      <td>NaN</td>\n",
       "      <td>40.00</td>\n",
       "      <td>40.000</td>\n",
       "      <td>40.0</td>\n",
       "      <td>40.00</td>\n",
       "      <td>40.0</td>\n",
       "    </tr>\n",
       "    <tr>\n",
       "      <th>Dr</th>\n",
       "      <td>6.0</td>\n",
       "      <td>42.000000</td>\n",
       "      <td>12.016655</td>\n",
       "      <td>23.00</td>\n",
       "      <td>35.000</td>\n",
       "      <td>46.5</td>\n",
       "      <td>49.75</td>\n",
       "      <td>54.0</td>\n",
       "    </tr>\n",
       "    <tr>\n",
       "      <th>Jonkheer</th>\n",
       "      <td>1.0</td>\n",
       "      <td>38.000000</td>\n",
       "      <td>NaN</td>\n",
       "      <td>38.00</td>\n",
       "      <td>38.000</td>\n",
       "      <td>38.0</td>\n",
       "      <td>38.00</td>\n",
       "      <td>38.0</td>\n",
       "    </tr>\n",
       "    <tr>\n",
       "      <th>Lady</th>\n",
       "      <td>1.0</td>\n",
       "      <td>48.000000</td>\n",
       "      <td>NaN</td>\n",
       "      <td>48.00</td>\n",
       "      <td>48.000</td>\n",
       "      <td>48.0</td>\n",
       "      <td>48.00</td>\n",
       "      <td>48.0</td>\n",
       "    </tr>\n",
       "    <tr>\n",
       "      <th>Major</th>\n",
       "      <td>2.0</td>\n",
       "      <td>48.500000</td>\n",
       "      <td>4.949747</td>\n",
       "      <td>45.00</td>\n",
       "      <td>46.750</td>\n",
       "      <td>48.5</td>\n",
       "      <td>50.25</td>\n",
       "      <td>52.0</td>\n",
       "    </tr>\n",
       "    <tr>\n",
       "      <th>Master</th>\n",
       "      <td>36.0</td>\n",
       "      <td>4.574167</td>\n",
       "      <td>3.619872</td>\n",
       "      <td>0.42</td>\n",
       "      <td>1.000</td>\n",
       "      <td>3.5</td>\n",
       "      <td>8.00</td>\n",
       "      <td>12.0</td>\n",
       "    </tr>\n",
       "    <tr>\n",
       "      <th>Miss</th>\n",
       "      <td>146.0</td>\n",
       "      <td>21.773973</td>\n",
       "      <td>12.990292</td>\n",
       "      <td>0.75</td>\n",
       "      <td>14.125</td>\n",
       "      <td>21.0</td>\n",
       "      <td>30.00</td>\n",
       "      <td>63.0</td>\n",
       "    </tr>\n",
       "    <tr>\n",
       "      <th>Mlle</th>\n",
       "      <td>2.0</td>\n",
       "      <td>24.000000</td>\n",
       "      <td>0.000000</td>\n",
       "      <td>24.00</td>\n",
       "      <td>24.000</td>\n",
       "      <td>24.0</td>\n",
       "      <td>24.00</td>\n",
       "      <td>24.0</td>\n",
       "    </tr>\n",
       "    <tr>\n",
       "      <th>Mme</th>\n",
       "      <td>1.0</td>\n",
       "      <td>24.000000</td>\n",
       "      <td>NaN</td>\n",
       "      <td>24.00</td>\n",
       "      <td>24.000</td>\n",
       "      <td>24.0</td>\n",
       "      <td>24.00</td>\n",
       "      <td>24.0</td>\n",
       "    </tr>\n",
       "    <tr>\n",
       "      <th>Mr</th>\n",
       "      <td>398.0</td>\n",
       "      <td>32.368090</td>\n",
       "      <td>12.708793</td>\n",
       "      <td>11.00</td>\n",
       "      <td>23.000</td>\n",
       "      <td>30.0</td>\n",
       "      <td>39.00</td>\n",
       "      <td>80.0</td>\n",
       "    </tr>\n",
       "    <tr>\n",
       "      <th>Mrs</th>\n",
       "      <td>108.0</td>\n",
       "      <td>35.898148</td>\n",
       "      <td>11.433628</td>\n",
       "      <td>14.00</td>\n",
       "      <td>27.750</td>\n",
       "      <td>35.0</td>\n",
       "      <td>44.00</td>\n",
       "      <td>63.0</td>\n",
       "    </tr>\n",
       "    <tr>\n",
       "      <th>Ms</th>\n",
       "      <td>1.0</td>\n",
       "      <td>28.000000</td>\n",
       "      <td>NaN</td>\n",
       "      <td>28.00</td>\n",
       "      <td>28.000</td>\n",
       "      <td>28.0</td>\n",
       "      <td>28.00</td>\n",
       "      <td>28.0</td>\n",
       "    </tr>\n",
       "    <tr>\n",
       "      <th>Rev</th>\n",
       "      <td>6.0</td>\n",
       "      <td>43.166667</td>\n",
       "      <td>13.136463</td>\n",
       "      <td>27.00</td>\n",
       "      <td>31.500</td>\n",
       "      <td>46.5</td>\n",
       "      <td>53.25</td>\n",
       "      <td>57.0</td>\n",
       "    </tr>\n",
       "    <tr>\n",
       "      <th>Sir</th>\n",
       "      <td>1.0</td>\n",
       "      <td>49.000000</td>\n",
       "      <td>NaN</td>\n",
       "      <td>49.00</td>\n",
       "      <td>49.000</td>\n",
       "      <td>49.0</td>\n",
       "      <td>49.00</td>\n",
       "      <td>49.0</td>\n",
       "    </tr>\n",
       "  </tbody>\n",
       "</table>\n",
       "</div>"
      ],
      "text/plain": [
       "          count       mean        std    min     25%   50%    75%   max\n",
       "Title                                                                  \n",
       "Capt        1.0  70.000000        NaN  70.00  70.000  70.0  70.00  70.0\n",
       "Col         2.0  58.000000   2.828427  56.00  57.000  58.0  59.00  60.0\n",
       "Countess    1.0  33.000000        NaN  33.00  33.000  33.0  33.00  33.0\n",
       "Don         1.0  40.000000        NaN  40.00  40.000  40.0  40.00  40.0\n",
       "Dr          6.0  42.000000  12.016655  23.00  35.000  46.5  49.75  54.0\n",
       "Jonkheer    1.0  38.000000        NaN  38.00  38.000  38.0  38.00  38.0\n",
       "Lady        1.0  48.000000        NaN  48.00  48.000  48.0  48.00  48.0\n",
       "Major       2.0  48.500000   4.949747  45.00  46.750  48.5  50.25  52.0\n",
       "Master     36.0   4.574167   3.619872   0.42   1.000   3.5   8.00  12.0\n",
       "Miss      146.0  21.773973  12.990292   0.75  14.125  21.0  30.00  63.0\n",
       "Mlle        2.0  24.000000   0.000000  24.00  24.000  24.0  24.00  24.0\n",
       "Mme         1.0  24.000000        NaN  24.00  24.000  24.0  24.00  24.0\n",
       "Mr        398.0  32.368090  12.708793  11.00  23.000  30.0  39.00  80.0\n",
       "Mrs       108.0  35.898148  11.433628  14.00  27.750  35.0  44.00  63.0\n",
       "Ms          1.0  28.000000        NaN  28.00  28.000  28.0  28.00  28.0\n",
       "Rev         6.0  43.166667  13.136463  27.00  31.500  46.5  53.25  57.0\n",
       "Sir         1.0  49.000000        NaN  49.00  49.000  49.0  49.00  49.0"
      ]
     },
     "execution_count": 94,
     "metadata": {},
     "output_type": "execute_result"
    }
   ],
   "source": [
    "train_set.groupby('Title')['Age'].describe()"
   ]
  },
  {
   "cell_type": "markdown",
   "metadata": {},
   "source": [
    "From the descriptive table given before, it was seen that the std for \"Age\" was around 14.5, with a mean value of 29.69. The table above points that the highest std is of 13.13, where, for each title, the mean age varies considerably. So, using the titles to inpute the missing age values is not a bad choice. To do so:"
   ]
  },
  {
   "cell_type": "code",
   "execution_count": 95,
   "metadata": {},
   "outputs": [],
   "source": [
    "def insert_age_title_based(df):\n",
    "    df['Age'].fillna(df.groupby('Title')['Age'].transform('mean'), inplace = True)"
   ]
  },
  {
   "cell_type": "code",
   "execution_count": 98,
   "metadata": {},
   "outputs": [
    {
     "data": {
      "text/plain": [
       "(0, 1)"
      ]
     },
     "execution_count": 98,
     "metadata": {},
     "output_type": "execute_result"
    }
   ],
   "source": [
    "insert_age_title_based(train_set)\n",
    "insert_age_title_based(test_set)\n",
    "\n",
    "train_set['Age'].isnull().sum(), test_set['Age'].isnull().sum()"
   ]
  },
  {
   "cell_type": "markdown",
   "metadata": {},
   "source": [
    "One last thing that could be checked before moving foward is how much a title could be related to the survival of a person. This can be qualitatively visualized bu using the \"hist_stack_plot\" defined earlier:  "
   ]
  },
  {
   "cell_type": "code",
   "execution_count": 66,
   "metadata": {
    "scrolled": false
   },
   "outputs": [
    {
     "data": {
      "image/png": "[encoded data removed]",
      "text/plain": [
       "<Figure size 864x864 with 2 Axes>"
      ]
     },
     "metadata": {
      "needs_background": "light"
     },
     "output_type": "display_data"
    }
   ],
   "source": [
    "hist_stack_plot(train_set, ['Title'])"
   ]
  },
  {
   "cell_type": "markdown",
   "metadata": {},
   "source": [
    "From the figure, a great amount of people entitled \"Miss\" (hence women) didn't survive, while those with the title \"Mr.\" (hence men) had higher probability of surviving. This was seen earlier when analysing the correlation between sex and survival. Anyway, it is clear that this feature, although it may indicate high correlation with survival, has too many categories, and which too many of them is non-equally distributes, what can worse the prediction performance. Therefore, it would be more interesting to maintain classes that are more present and to group the rest into one \"Others\" category. To do so:"
   ]
  },
  {
   "cell_type": "code",
   "execution_count": 100,
   "metadata": {},
   "outputs": [],
   "source": [
    "def simplify_titles(df):\n",
    "    df['Title'] = df['Title'].replace([\n",
    "        'Lady', 'Don', 'Rev', 'Dr', 'Mme', 'Ms', 'Major', 'Sir', 'Mlle', 'Col', 'Capt', 'Countess', 'Jonkheer'\n",
    "        ], 'Others')"
   ]
  },
  {
   "cell_type": "code",
   "execution_count": 103,
   "metadata": {
    "scrolled": true
   },
   "outputs": [
    {
     "data": {
      "image/png": "[encoded data removed]",
      "text/plain": [
       "<Figure size 864x864 with 2 Axes>"
      ]
     },
     "metadata": {
      "needs_background": "light"
     },
     "output_type": "display_data"
    }
   ],
   "source": [
    "simplify_titles(train_set)\n",
    "simplify_titles(test_set)\n",
    "\n",
    "hist_stack_plot(train_set, ['Title'])"
   ]
  },
  {
   "cell_type": "markdown",
   "metadata": {},
   "source": [
    "### Testing possible features"
   ]
  },
  {
   "cell_type": "markdown",
   "metadata": {},
   "source": [
    "One could use the possible transformations cited before in order to check for possible correlations."
   ]
  },
  {
   "cell_type": "code",
   "execution_count": 68,
   "metadata": {},
   "outputs": [
    {
     "name": "stdout",
     "output_type": "stream",
     "text": [
      "<class 'pandas.core.frame.DataFrame'>\n",
      "RangeIndex: 891 entries, 0 to 890\n",
      "Data columns (total 4 columns):\n",
      " #   Column       Non-Null Count  Dtype \n",
      "---  ------       --------------  ----- \n",
      " 0   Survived     891 non-null    int64 \n",
      " 1   Family Size  0 non-null      object\n",
      " 2   Class*Age    0 non-null      object\n",
      " 3   Class*Fare   0 non-null      object\n",
      "dtypes: int64(1), object(3)\n",
      "memory usage: 28.0+ KB\n"
     ]
    }
   ],
   "source": [
    "possib_attr = ['Survived', 'Family Size', 'Class*Age', 'Class*Fare']\n",
    "\n",
    "possib_feat = pd.DataFrame(index = train_set.index, columns = possib_attr)\n",
    "\n",
    "possib_feat['Survived'] = train_set['Survived']\n",
    "\n",
    "possib_feat.info()"
   ]
  },
  {
   "cell_type": "code",
   "execution_count": 69,
   "metadata": {},
   "outputs": [
    {
     "data": {
      "text/html": [
       "<div>\n",
       "<style scoped>\n",
       "    .dataframe tbody tr th:only-of-type {\n",
       "        vertical-align: middle;\n",
       "    }\n",
       "\n",
       "    .dataframe tbody tr th {\n",
       "        vertical-align: top;\n",
       "    }\n",
       "\n",
       "    .dataframe thead th {\n",
       "        text-align: right;\n",
       "    }\n",
       "</style>\n",
       "<table border=\"1\" class=\"dataframe\">\n",
       "  <thead>\n",
       "    <tr style=\"text-align: right;\">\n",
       "      <th></th>\n",
       "      <th>Survived</th>\n",
       "      <th>Family Size</th>\n",
       "      <th>Class*Age</th>\n",
       "      <th>Class*Fare</th>\n",
       "    </tr>\n",
       "  </thead>\n",
       "  <tbody>\n",
       "    <tr>\n",
       "      <th>Survived</th>\n",
       "      <td>1.000000</td>\n",
       "      <td>0.016639</td>\n",
       "      <td>-0.346344</td>\n",
       "      <td>0.183627</td>\n",
       "    </tr>\n",
       "    <tr>\n",
       "      <th>Family Size</th>\n",
       "      <td>0.016639</td>\n",
       "      <td>1.000000</td>\n",
       "      <td>-0.233861</td>\n",
       "      <td>0.486379</td>\n",
       "    </tr>\n",
       "    <tr>\n",
       "      <th>Class*Age</th>\n",
       "      <td>-0.346344</td>\n",
       "      <td>-0.233861</td>\n",
       "      <td>1.000000</td>\n",
       "      <td>-0.292509</td>\n",
       "    </tr>\n",
       "    <tr>\n",
       "      <th>Class*Fare</th>\n",
       "      <td>0.183627</td>\n",
       "      <td>0.486379</td>\n",
       "      <td>-0.292509</td>\n",
       "      <td>1.000000</td>\n",
       "    </tr>\n",
       "  </tbody>\n",
       "</table>\n",
       "</div>"
      ],
      "text/plain": [
       "             Survived  Family Size  Class*Age  Class*Fare\n",
       "Survived     1.000000     0.016639  -0.346344    0.183627\n",
       "Family Size  0.016639     1.000000  -0.233861    0.486379\n",
       "Class*Age   -0.346344    -0.233861   1.000000   -0.292509\n",
       "Class*Fare   0.183627     0.486379  -0.292509    1.000000"
      ]
     },
     "execution_count": 69,
     "metadata": {},
     "output_type": "execute_result"
    }
   ],
   "source": [
    "possib_feat['Family Size'] = train_set['SibSp'] + train_set['Parch'] + 1\n",
    "\n",
    "possib_feat['Class*Age'] = train_set['Pclass'] * train_set['Age']\n",
    "\n",
    "possib_feat['Class*Fare'] = train_set['Pclass'] * train_set['Fare']\n",
    "\n",
    "possib_corr_matrix = possib_feat.corr()\n",
    "possib_corr_matrix"
   ]
  },
  {
   "cell_type": "code",
   "execution_count": 70,
   "metadata": {},
   "outputs": [
    {
     "data": {
      "image/png": "[encoded data removed]",
      "text/plain": [
       "<Figure size 720x576 with 2 Axes>"
      ]
     },
     "metadata": {
      "needs_background": "light"
     },
     "output_type": "display_data"
    }
   ],
   "source": [
    "corr_matrix_plot(possib_corr_matrix)"
   ]
  },
  {
   "cell_type": "markdown",
   "metadata": {},
   "source": [
    "From the correlation matrix, it can be seen that \"Class\\*Age\" and \"Class\\*Fare\" have a considerable correlation with survival. As for the \"Family Size\", it shows a lower correlation when compared to any of its constituents attributes (\"SibSp\" and \"Parch\"), so it can be dropped.\n",
    "\n",
    "The \"Class\\*Age\" and \"Class\\*Fare\" will be later passed to the dataset through a Custom Transformer pipeline."
   ]
  },
  {
   "cell_type": "markdown",
   "metadata": {},
   "source": [
    "## Data preparation"
   ]
  },
  {
   "cell_type": "markdown",
   "metadata": {},
   "source": [
    "So far, the training set looks like this:"
   ]
  },
  {
   "cell_type": "code",
   "execution_count": 104,
   "metadata": {},
   "outputs": [
    {
     "data": {
      "text/html": [
       "<div>\n",
       "<style scoped>\n",
       "    .dataframe tbody tr th:only-of-type {\n",
       "        vertical-align: middle;\n",
       "    }\n",
       "\n",
       "    .dataframe tbody tr th {\n",
       "        vertical-align: top;\n",
       "    }\n",
       "\n",
       "    .dataframe thead th {\n",
       "        text-align: right;\n",
       "    }\n",
       "</style>\n",
       "<table border=\"1\" class=\"dataframe\">\n",
       "  <thead>\n",
       "    <tr style=\"text-align: right;\">\n",
       "      <th></th>\n",
       "      <th>PassengerId</th>\n",
       "      <th>Survived</th>\n",
       "      <th>Pclass</th>\n",
       "      <th>Name</th>\n",
       "      <th>Sex</th>\n",
       "      <th>Age</th>\n",
       "      <th>SibSp</th>\n",
       "      <th>Parch</th>\n",
       "      <th>Ticket</th>\n",
       "      <th>Fare</th>\n",
       "      <th>Embarked</th>\n",
       "      <th>Title</th>\n",
       "    </tr>\n",
       "  </thead>\n",
       "  <tbody>\n",
       "    <tr>\n",
       "      <th>0</th>\n",
       "      <td>1</td>\n",
       "      <td>0</td>\n",
       "      <td>3</td>\n",
       "      <td>Braund, Mr. Owen Harris</td>\n",
       "      <td>male</td>\n",
       "      <td>22.0</td>\n",
       "      <td>1</td>\n",
       "      <td>0</td>\n",
       "      <td>A/5 21171</td>\n",
       "      <td>7.2500</td>\n",
       "      <td>S</td>\n",
       "      <td>Mr</td>\n",
       "    </tr>\n",
       "    <tr>\n",
       "      <th>1</th>\n",
       "      <td>2</td>\n",
       "      <td>1</td>\n",
       "      <td>1</td>\n",
       "      <td>Cumings, Mrs. John Bradley (Florence Briggs Th...</td>\n",
       "      <td>female</td>\n",
       "      <td>38.0</td>\n",
       "      <td>1</td>\n",
       "      <td>0</td>\n",
       "      <td>PC 17599</td>\n",
       "      <td>71.2833</td>\n",
       "      <td>C</td>\n",
       "      <td>Mrs</td>\n",
       "    </tr>\n",
       "    <tr>\n",
       "      <th>2</th>\n",
       "      <td>3</td>\n",
       "      <td>1</td>\n",
       "      <td>3</td>\n",
       "      <td>Heikkinen, Miss. Laina</td>\n",
       "      <td>female</td>\n",
       "      <td>26.0</td>\n",
       "      <td>0</td>\n",
       "      <td>0</td>\n",
       "      <td>STON/O2. 3101282</td>\n",
       "      <td>7.9250</td>\n",
       "      <td>S</td>\n",
       "      <td>Miss</td>\n",
       "    </tr>\n",
       "    <tr>\n",
       "      <th>3</th>\n",
       "      <td>4</td>\n",
       "      <td>1</td>\n",
       "      <td>1</td>\n",
       "      <td>Futrelle, Mrs. Jacques Heath (Lily May Peel)</td>\n",
       "      <td>female</td>\n",
       "      <td>35.0</td>\n",
       "      <td>1</td>\n",
       "      <td>0</td>\n",
       "      <td>113803</td>\n",
       "      <td>53.1000</td>\n",
       "      <td>S</td>\n",
       "      <td>Mrs</td>\n",
       "    </tr>\n",
       "    <tr>\n",
       "      <th>4</th>\n",
       "      <td>5</td>\n",
       "      <td>0</td>\n",
       "      <td>3</td>\n",
       "      <td>Allen, Mr. William Henry</td>\n",
       "      <td>male</td>\n",
       "      <td>35.0</td>\n",
       "      <td>0</td>\n",
       "      <td>0</td>\n",
       "      <td>373450</td>\n",
       "      <td>8.0500</td>\n",
       "      <td>S</td>\n",
       "      <td>Mr</td>\n",
       "    </tr>\n",
       "  </tbody>\n",
       "</table>\n",
       "</div>"
      ],
      "text/plain": [
       "   PassengerId  Survived  Pclass  \\\n",
       "0            1         0       3   \n",
       "1            2         1       1   \n",
       "2            3         1       3   \n",
       "3            4         1       1   \n",
       "4            5         0       3   \n",
       "\n",
       "                                                Name     Sex   Age  SibSp  \\\n",
       "0                            Braund, Mr. Owen Harris    male  22.0      1   \n",
       "1  Cumings, Mrs. John Bradley (Florence Briggs Th...  female  38.0      1   \n",
       "2                             Heikkinen, Miss. Laina  female  26.0      0   \n",
       "3       Futrelle, Mrs. Jacques Heath (Lily May Peel)  female  35.0      1   \n",
       "4                           Allen, Mr. William Henry    male  35.0      0   \n",
       "\n",
       "   Parch            Ticket     Fare Embarked Title  \n",
       "0      0         A/5 21171   7.2500        S    Mr  \n",
       "1      0          PC 17599  71.2833        C   Mrs  \n",
       "2      0  STON/O2. 3101282   7.9250        S  Miss  \n",
       "3      0            113803  53.1000        S   Mrs  \n",
       "4      0            373450   8.0500        S    Mr  "
      ]
     },
     "execution_count": 104,
     "metadata": {},
     "output_type": "execute_result"
    }
   ],
   "source": [
    "train_set.head()"
   ]
  },
  {
   "cell_type": "code",
   "execution_count": 105,
   "metadata": {},
   "outputs": [
    {
     "name": "stdout",
     "output_type": "stream",
     "text": [
      "Number of instances : 891\n",
      "Number of variables : 12\n",
      "--------------------\n",
      "Attributes, data type and ratio of unique instances por total non-null:\n",
      "\t - PassengerId, int64, 891/891\n",
      "\t - Survived, int64, 2/891\n",
      "\t - Pclass, int64, 3/891\n",
      "\t - Name, object, 891/891\n",
      "\t - Sex, object, 2/891\n",
      "\t - Age, float64, 92/891\n",
      "\t - SibSp, int64, 7/891\n",
      "\t - Parch, int64, 7/891\n",
      "\t - Ticket, object, 681/891\n",
      "\t - Fare, float64, 248/891\n",
      "\t - Embarked, object, 3/889\n",
      "\t - Title, object, 5/891\n",
      "--------------------\n",
      "Attributes that have missing values: \n",
      "Embarked    2\n",
      "dtype: int64\n",
      "--------------------\n",
      "Pictorial representation of missing values:\n"
     ]
    },
    {
     "data": {
      "image/png": "[encoded data removed]",
      "text/plain": [
       "<Figure size 720x576 with 2 Axes>"
      ]
     },
     "metadata": {
      "needs_background": "light"
     },
     "output_type": "display_data"
    }
   ],
   "source": [
    "data_investigation(train_set)"
   ]
  },
  {
   "cell_type": "code",
   "execution_count": 106,
   "metadata": {},
   "outputs": [
    {
     "name": "stdout",
     "output_type": "stream",
     "text": [
      "Number of instances : 418\n",
      "Number of variables : 11\n",
      "--------------------\n",
      "Attributes, data type and ratio of unique instances por total non-null:\n",
      "\t - PassengerId, int64, 418/418\n",
      "\t - Pclass, int64, 3/418\n",
      "\t - Name, object, 418/418\n",
      "\t - Sex, object, 2/418\n",
      "\t - Age, float64, 82/417\n",
      "\t - SibSp, int64, 7/418\n",
      "\t - Parch, int64, 8/418\n",
      "\t - Ticket, object, 363/418\n",
      "\t - Fare, float64, 169/417\n",
      "\t - Embarked, object, 3/418\n",
      "\t - Title, object, 6/418\n",
      "--------------------\n",
      "Attributes that have missing values: \n",
      "Age     1\n",
      "Fare    1\n",
      "dtype: int64\n",
      "--------------------\n",
      "Pictorial representation of missing values:\n"
     ]
    },
    {
     "data": {
      "image/png": "[encoded data removed]",
      "text/plain": [
       "<Figure size 720x576 with 2 Axes>"
      ]
     },
     "metadata": {
      "needs_background": "light"
     },
     "output_type": "display_data"
    }
   ],
   "source": [
    "data_investigation(test_set)"
   ]
  },
  {
   "cell_type": "markdown",
   "metadata": {},
   "source": [
    "Now it is time to prepare the data to train the predictive models. To do so, the data must be scaled, the categorical data must be encoded, all of the remaining missing values must be taken care of and not usefull attributes must be dropped. "
   ]
  },
  {
   "cell_type": "code",
   "execution_count": 107,
   "metadata": {},
   "outputs": [],
   "source": [
    "attr_to_drop = ['PassengerId', 'Name', 'Ticket']\n",
    "\n",
    "train_set = drop_feat(train_set, attr_to_drop)\n",
    "test_set = drop_feat(test_set, attr_to_drop)"
   ]
  },
  {
   "cell_type": "code",
   "execution_count": 108,
   "metadata": {},
   "outputs": [
    {
     "name": "stdout",
     "output_type": "stream",
     "text": [
      "<class 'pandas.core.frame.DataFrame'>\n",
      "RangeIndex: 891 entries, 0 to 890\n",
      "Data columns (total 9 columns):\n",
      " #   Column    Non-Null Count  Dtype  \n",
      "---  ------    --------------  -----  \n",
      " 0   Survived  891 non-null    int64  \n",
      " 1   Pclass    891 non-null    int64  \n",
      " 2   Sex       891 non-null    object \n",
      " 3   Age       891 non-null    float64\n",
      " 4   SibSp     891 non-null    int64  \n",
      " 5   Parch     891 non-null    int64  \n",
      " 6   Fare      891 non-null    float64\n",
      " 7   Embarked  889 non-null    object \n",
      " 8   Title     891 non-null    object \n",
      "dtypes: float64(2), int64(4), object(3)\n",
      "memory usage: 62.8+ KB\n"
     ]
    }
   ],
   "source": [
    "train_set.info()"
   ]
  },
  {
   "cell_type": "markdown",
   "metadata": {},
   "source": [
    "### Pipelining transformations"
   ]
  },
  {
   "cell_type": "markdown",
   "metadata": {},
   "source": [
    "The encoding and scaliing can be applyied by passing the datasets into a __sklearn pipeline__. To do, one must separate the numerical features from the categorical ones, since the full pipeline must be constructed over the numerical. To do so: "
   ]
  },
  {
   "cell_type": "code",
   "execution_count": 109,
   "metadata": {},
   "outputs": [],
   "source": [
    "attr_num = ['Pclass', 'Age', 'SibSp', 'Parch', 'Fare']\n",
    "attr_cat = ['Sex', 'Embarked', 'Title']\n",
    "attr_label = ['Survived']\n",
    "\n",
    "train_num = train_set[attr_num]\n",
    "train_cat = train_set[attr_cat]\n",
    "train_label = train_set[attr_label]\n",
    "\n",
    "train_s = drop_feat(train_set, attr_label)\n",
    "\n",
    "test_num = test_set[attr_num]\n",
    "test_cat = test_set[attr_cat]"
   ]
  },
  {
   "cell_type": "code",
   "execution_count": 110,
   "metadata": {},
   "outputs": [
    {
     "data": {
      "text/html": [
       "<div>\n",
       "<style scoped>\n",
       "    .dataframe tbody tr th:only-of-type {\n",
       "        vertical-align: middle;\n",
       "    }\n",
       "\n",
       "    .dataframe tbody tr th {\n",
       "        vertical-align: top;\n",
       "    }\n",
       "\n",
       "    .dataframe thead th {\n",
       "        text-align: right;\n",
       "    }\n",
       "</style>\n",
       "<table border=\"1\" class=\"dataframe\">\n",
       "  <thead>\n",
       "    <tr style=\"text-align: right;\">\n",
       "      <th></th>\n",
       "      <th>Pclass</th>\n",
       "      <th>Sex</th>\n",
       "      <th>Age</th>\n",
       "      <th>SibSp</th>\n",
       "      <th>Parch</th>\n",
       "      <th>Fare</th>\n",
       "      <th>Embarked</th>\n",
       "      <th>Title</th>\n",
       "    </tr>\n",
       "  </thead>\n",
       "  <tbody>\n",
       "    <tr>\n",
       "      <th>0</th>\n",
       "      <td>3</td>\n",
       "      <td>male</td>\n",
       "      <td>22.000000</td>\n",
       "      <td>1</td>\n",
       "      <td>0</td>\n",
       "      <td>7.2500</td>\n",
       "      <td>S</td>\n",
       "      <td>Mr</td>\n",
       "    </tr>\n",
       "    <tr>\n",
       "      <th>1</th>\n",
       "      <td>1</td>\n",
       "      <td>female</td>\n",
       "      <td>38.000000</td>\n",
       "      <td>1</td>\n",
       "      <td>0</td>\n",
       "      <td>71.2833</td>\n",
       "      <td>C</td>\n",
       "      <td>Mrs</td>\n",
       "    </tr>\n",
       "    <tr>\n",
       "      <th>2</th>\n",
       "      <td>3</td>\n",
       "      <td>female</td>\n",
       "      <td>26.000000</td>\n",
       "      <td>0</td>\n",
       "      <td>0</td>\n",
       "      <td>7.9250</td>\n",
       "      <td>S</td>\n",
       "      <td>Miss</td>\n",
       "    </tr>\n",
       "    <tr>\n",
       "      <th>3</th>\n",
       "      <td>1</td>\n",
       "      <td>female</td>\n",
       "      <td>35.000000</td>\n",
       "      <td>1</td>\n",
       "      <td>0</td>\n",
       "      <td>53.1000</td>\n",
       "      <td>S</td>\n",
       "      <td>Mrs</td>\n",
       "    </tr>\n",
       "    <tr>\n",
       "      <th>4</th>\n",
       "      <td>3</td>\n",
       "      <td>male</td>\n",
       "      <td>35.000000</td>\n",
       "      <td>0</td>\n",
       "      <td>0</td>\n",
       "      <td>8.0500</td>\n",
       "      <td>S</td>\n",
       "      <td>Mr</td>\n",
       "    </tr>\n",
       "    <tr>\n",
       "      <th>...</th>\n",
       "      <td>...</td>\n",
       "      <td>...</td>\n",
       "      <td>...</td>\n",
       "      <td>...</td>\n",
       "      <td>...</td>\n",
       "      <td>...</td>\n",
       "      <td>...</td>\n",
       "      <td>...</td>\n",
       "    </tr>\n",
       "    <tr>\n",
       "      <th>886</th>\n",
       "      <td>2</td>\n",
       "      <td>male</td>\n",
       "      <td>27.000000</td>\n",
       "      <td>0</td>\n",
       "      <td>0</td>\n",
       "      <td>13.0000</td>\n",
       "      <td>S</td>\n",
       "      <td>Others</td>\n",
       "    </tr>\n",
       "    <tr>\n",
       "      <th>887</th>\n",
       "      <td>1</td>\n",
       "      <td>female</td>\n",
       "      <td>19.000000</td>\n",
       "      <td>0</td>\n",
       "      <td>0</td>\n",
       "      <td>30.0000</td>\n",
       "      <td>S</td>\n",
       "      <td>Miss</td>\n",
       "    </tr>\n",
       "    <tr>\n",
       "      <th>888</th>\n",
       "      <td>3</td>\n",
       "      <td>female</td>\n",
       "      <td>21.773973</td>\n",
       "      <td>1</td>\n",
       "      <td>2</td>\n",
       "      <td>23.4500</td>\n",
       "      <td>S</td>\n",
       "      <td>Miss</td>\n",
       "    </tr>\n",
       "    <tr>\n",
       "      <th>889</th>\n",
       "      <td>1</td>\n",
       "      <td>male</td>\n",
       "      <td>26.000000</td>\n",
       "      <td>0</td>\n",
       "      <td>0</td>\n",
       "      <td>30.0000</td>\n",
       "      <td>C</td>\n",
       "      <td>Mr</td>\n",
       "    </tr>\n",
       "    <tr>\n",
       "      <th>890</th>\n",
       "      <td>3</td>\n",
       "      <td>male</td>\n",
       "      <td>32.000000</td>\n",
       "      <td>0</td>\n",
       "      <td>0</td>\n",
       "      <td>7.7500</td>\n",
       "      <td>Q</td>\n",
       "      <td>Mr</td>\n",
       "    </tr>\n",
       "  </tbody>\n",
       "</table>\n",
       "<p>891 rows × 8 columns</p>\n",
       "</div>"
      ],
      "text/plain": [
       "     Pclass     Sex        Age  SibSp  Parch     Fare Embarked   Title\n",
       "0         3    male  22.000000      1      0   7.2500        S      Mr\n",
       "1         1  female  38.000000      1      0  71.2833        C     Mrs\n",
       "2         3  female  26.000000      0      0   7.9250        S    Miss\n",
       "3         1  female  35.000000      1      0  53.1000        S     Mrs\n",
       "4         3    male  35.000000      0      0   8.0500        S      Mr\n",
       "..      ...     ...        ...    ...    ...      ...      ...     ...\n",
       "886       2    male  27.000000      0      0  13.0000        S  Others\n",
       "887       1  female  19.000000      0      0  30.0000        S    Miss\n",
       "888       3  female  21.773973      1      2  23.4500        S    Miss\n",
       "889       1    male  26.000000      0      0  30.0000        C      Mr\n",
       "890       3    male  32.000000      0      0   7.7500        Q      Mr\n",
       "\n",
       "[891 rows x 8 columns]"
      ]
     },
     "execution_count": 110,
     "metadata": {},
     "output_type": "execute_result"
    }
   ],
   "source": [
    "train_s"
   ]
  },
  {
   "cell_type": "markdown",
   "metadata": {},
   "source": [
    "The pipeline will be consisted of:\n",
    "\n",
    "- A custom imputer, to make sure that no data is being passed empty (in this case it was explicitly written so to pass a pandas dataframe to the \"CommbinedAttr\" class. Also, apparently pandas' Pipeline method can't accept input to go through a first layer of transformation with NaN's, so the custom imputer was called before the pipeline, from the function \"transform_full\")\n",
    "- A Standard Scaler\n",
    "- A custom transformer, based on the proposed transformation over \"Pclass\" and \"Age\"\n",
    "- An encoder (`OneHotEncoder`)"
   ]
  },
  {
   "cell_type": "code",
   "execution_count": 124,
   "metadata": {},
   "outputs": [],
   "source": [
    "from sklearn.impute import SimpleImputer\n",
    "from sklearn.preprocessing import OneHotEncoder\n",
    "from sklearn.pipeline import Pipeline\n",
    "from sklearn.preprocessing import StandardScaler\n",
    "from sklearn.compose import ColumnTransformer\n",
    "from sklearn.base import BaseEstimator, TransformerMixin\n",
    "\n",
    "\n",
    "class CombinedAttr(BaseEstimator, TransformerMixin):\n",
    "    def __init__(self, add_family_size = False):\n",
    "        self.add_family_size = add_family_size\n",
    "        \n",
    "    def fit(self, X, y = None):\n",
    "        return self\n",
    "    \n",
    "    def transform(self, X, y = None):\n",
    "        #class_id = X.columns.get_loc('Pclass')\n",
    "        #age_id = X.columns.get_loc('Age')\n",
    "        #fare_id = X.columns.get_loc('Fare')\n",
    "        class_age = X['Pclass'] * X['Age']\n",
    "        class_age.columns = ['Class*Age']\n",
    "        class_fare = X['Pclass'] * X['Fare']\n",
    "        class_fare.columns = ['Class*Fare']\n",
    "        if self.add_family_size:\n",
    "            family_size = X['SibSp'] + X['Parch'] + 1 \n",
    "            family.size.columns = ['Family Size']\n",
    "            X['Class*Age'] = class_age\n",
    "            X['Class*Fare'] = class_fare\n",
    "            X['Family Size'] = family_size\n",
    "            return X\n",
    "        else:\n",
    "            X['Class*Age'] = class_age\n",
    "            X['Class*Fare'] = class_fare            \n",
    "            return X\n",
    "        \n",
    "class CustImputer(BaseEstimator, TransformerMixin):\n",
    "    def __init__(self):\n",
    "        pass\n",
    "    \n",
    "    def fit(self, X, y = None):\n",
    "        return self\n",
    "    \n",
    "    def transform(self, X, y = None):\n",
    "        a = X.isnull().sum()\n",
    "        b = a[a>0]\n",
    "        c = b.index\n",
    "        \n",
    "        for i in c:\n",
    "            type_var = X[i].dtype\n",
    "            if (type_var == 'int64') or (type_var == 'float64'):\n",
    "                X[i] = X[i].fillna(X[i].mean())\n",
    "            elif (type_var == 'O'):\n",
    "                X = X.dropna(subset = [i], axis = 0)\n",
    "            \n",
    "        return X\n",
    "    \n",
    "def transform_full(inp):\n",
    "    attr_impute = CustImputer()\n",
    "    imputer_out = attr_impute.transform(inp)\n",
    "    \n",
    "    out = full_pipe.fit_transform(imputer_out)\n",
    "    return out\n",
    "\n",
    "num_pipe = Pipeline([\n",
    "    ('custom_transform', CombinedAttr()),\n",
    "    ('std_scaler', StandardScaler()),\n",
    "])\n",
    "\n",
    "full_pipe = ColumnTransformer([\n",
    "    ('num', num_pipe, attr_num),\n",
    "    ('cat', OneHotEncoder(), attr_cat),\n",
    "])"
   ]
  },
  {
   "cell_type": "code",
   "execution_count": 112,
   "metadata": {},
   "outputs": [
    {
     "name": "stdout",
     "output_type": "stream",
     "text": [
      "     Pclass        Age  SibSp  Parch      Fare\n",
      "0         3  34.500000      0      0    7.8292\n",
      "1         3  47.000000      1      0    7.0000\n",
      "2         2  62.000000      0      0    9.6875\n",
      "3         3  27.000000      0      0    8.6625\n",
      "4         3  22.000000      1      1   12.2875\n",
      "..      ...        ...    ...    ...       ...\n",
      "413       3  32.000000      0      0    8.0500\n",
      "414       1  39.000000      0      0  108.9000\n",
      "415       3  38.500000      0      0    7.2500\n",
      "416       3  32.000000      0      0    8.0500\n",
      "417       3   7.406471      1      1   22.3583\n",
      "\n",
      "[418 rows x 5 columns]\n",
      "     Pclass        Age  SibSp  Parch     Fare\n",
      "0         3  22.000000      1      0   7.2500\n",
      "1         1  38.000000      1      0  71.2833\n",
      "2         3  26.000000      0      0   7.9250\n",
      "3         1  35.000000      1      0  53.1000\n",
      "4         3  35.000000      0      0   8.0500\n",
      "..      ...        ...    ...    ...      ...\n",
      "886       2  27.000000      0      0  13.0000\n",
      "887       1  19.000000      0      0  30.0000\n",
      "888       3  21.773973      1      2  23.4500\n",
      "889       1  26.000000      0      0  30.0000\n",
      "890       3  32.000000      0      0   7.7500\n",
      "\n",
      "[889 rows x 5 columns]\n"
     ]
    }
   ],
   "source": [
    "test_prep = transform_full(test_set)\n",
    "train_prep = transform_full(train_s)"
   ]
  },
  {
   "cell_type": "code",
   "execution_count": 113,
   "metadata": {},
   "outputs": [
    {
     "data": {
      "text/plain": [
       "(889, 17)"
      ]
     },
     "execution_count": 113,
     "metadata": {},
     "output_type": "execute_result"
    }
   ],
   "source": [
    "train_prep.shape"
   ]
  },
  {
   "cell_type": "code",
   "execution_count": 81,
   "metadata": {},
   "outputs": [
    {
     "data": {
      "text/plain": [
       "array([[ 0.82520863, -0.5823655 ,  0.43135024, ...,  1.        ,\n",
       "         0.        ,  0.        ],\n",
       "       [-1.57221121,  0.62631423,  0.43135024, ...,  0.        ,\n",
       "         1.        ,  0.        ],\n",
       "       [ 0.82520863, -0.28019556, -0.47519908, ...,  0.        ,\n",
       "         0.        ,  0.        ],\n",
       "       ...,\n",
       "       [ 0.82520863, -0.59944017,  0.43135024, ...,  0.        ,\n",
       "         0.        ,  0.        ],\n",
       "       [-1.57221121, -0.28019556, -0.47519908, ...,  1.        ,\n",
       "         0.        ,  0.        ],\n",
       "       [ 0.82520863,  0.17305933, -0.47519908, ...,  1.        ,\n",
       "         0.        ,  0.        ]])"
      ]
     },
     "execution_count": 81,
     "metadata": {},
     "output_type": "execute_result"
    }
   ],
   "source": [
    "train_prep"
   ]
  },
  {
   "cell_type": "markdown",
   "metadata": {},
   "source": [
    "The output from the pipeline is a Numpy array, with float objects. To ease the analysis, it can be passed to a pandas dataframe by specifying what the columns are. To do so, one must note that in scaling and imputing methods, the order of the features are maintained, while on an encoding process the categorical features are transformed in order respecting the input dataframe (in this case, the order would be: Sex -> Embarked -> Title), and the categories are adjusted to follow a alphabetical order (so for Sex, the first column would be female -> male). A final note is that the categorical features are all transposed to the end of the array (columnwise).\n",
    "\n",
    "Therefore, the features are arrenged in the following order: Pclass, Age, SibSp, Parch, Fare, Class\\*Age, Class\\*Fare, Sex (Female, Male), Embarked (C, Q, S) and finally Title (Master, Miss, Mr, Mrs, Others)."
   ]
  },
  {
   "cell_type": "code",
   "execution_count": 82,
   "metadata": {},
   "outputs": [],
   "source": [
    "cols_name = ['Pclass', 'Age', 'SibSp', 'Parch', 'Fare', 'Class*Age', 'Class*Fare', \n",
    "             'Female', 'Male', 'C', 'Q', 'S', 'Master', 'Miss', 'Mr', 'Mrs', 'Others']\n",
    "\n",
    "train_prep = pd.DataFrame(train_prep)\n",
    "train_prep.columns = cols_name"
   ]
  },
  {
   "cell_type": "code",
   "execution_count": 83,
   "metadata": {},
   "outputs": [
    {
     "data": {
      "text/html": [
       "<div>\n",
       "<style scoped>\n",
       "    .dataframe tbody tr th:only-of-type {\n",
       "        vertical-align: middle;\n",
       "    }\n",
       "\n",
       "    .dataframe tbody tr th {\n",
       "        vertical-align: top;\n",
       "    }\n",
       "\n",
       "    .dataframe thead th {\n",
       "        text-align: right;\n",
       "    }\n",
       "</style>\n",
       "<table border=\"1\" class=\"dataframe\">\n",
       "  <thead>\n",
       "    <tr style=\"text-align: right;\">\n",
       "      <th></th>\n",
       "      <th>Pclass</th>\n",
       "      <th>Age</th>\n",
       "      <th>SibSp</th>\n",
       "      <th>Parch</th>\n",
       "      <th>Fare</th>\n",
       "      <th>Class*Age</th>\n",
       "      <th>Class*Fare</th>\n",
       "      <th>Female</th>\n",
       "      <th>Male</th>\n",
       "      <th>C</th>\n",
       "      <th>Q</th>\n",
       "      <th>S</th>\n",
       "      <th>Master</th>\n",
       "      <th>Miss</th>\n",
       "      <th>Mr</th>\n",
       "      <th>Mrs</th>\n",
       "      <th>Others</th>\n",
       "    </tr>\n",
       "  </thead>\n",
       "  <tbody>\n",
       "    <tr>\n",
       "      <th>0</th>\n",
       "      <td>0.825209</td>\n",
       "      <td>-0.582365</td>\n",
       "      <td>0.431350</td>\n",
       "      <td>-0.474326</td>\n",
       "      <td>-0.500240</td>\n",
       "      <td>0.032301</td>\n",
       "      <td>-0.576273</td>\n",
       "      <td>0.0</td>\n",
       "      <td>1.0</td>\n",
       "      <td>0.0</td>\n",
       "      <td>0.0</td>\n",
       "      <td>1.0</td>\n",
       "      <td>0.0</td>\n",
       "      <td>0.0</td>\n",
       "      <td>1.0</td>\n",
       "      <td>0.0</td>\n",
       "      <td>0.0</td>\n",
       "    </tr>\n",
       "    <tr>\n",
       "      <th>1</th>\n",
       "      <td>-1.572211</td>\n",
       "      <td>0.626314</td>\n",
       "      <td>0.431350</td>\n",
       "      <td>-0.474326</td>\n",
       "      <td>0.788947</td>\n",
       "      <td>-0.802649</td>\n",
       "      <td>0.383878</td>\n",
       "      <td>1.0</td>\n",
       "      <td>0.0</td>\n",
       "      <td>1.0</td>\n",
       "      <td>0.0</td>\n",
       "      <td>0.0</td>\n",
       "      <td>0.0</td>\n",
       "      <td>0.0</td>\n",
       "      <td>0.0</td>\n",
       "      <td>1.0</td>\n",
       "      <td>0.0</td>\n",
       "    </tr>\n",
       "    <tr>\n",
       "      <th>2</th>\n",
       "      <td>0.825209</td>\n",
       "      <td>-0.280196</td>\n",
       "      <td>-0.475199</td>\n",
       "      <td>-0.474326</td>\n",
       "      <td>-0.486650</td>\n",
       "      <td>0.390136</td>\n",
       "      <td>-0.537020</td>\n",
       "      <td>1.0</td>\n",
       "      <td>0.0</td>\n",
       "      <td>0.0</td>\n",
       "      <td>0.0</td>\n",
       "      <td>1.0</td>\n",
       "      <td>0.0</td>\n",
       "      <td>1.0</td>\n",
       "      <td>0.0</td>\n",
       "      <td>0.0</td>\n",
       "      <td>0.0</td>\n",
       "    </tr>\n",
       "    <tr>\n",
       "      <th>3</th>\n",
       "      <td>-1.572211</td>\n",
       "      <td>0.399687</td>\n",
       "      <td>0.431350</td>\n",
       "      <td>-0.474326</td>\n",
       "      <td>0.422861</td>\n",
       "      <td>-0.892108</td>\n",
       "      <td>0.031414</td>\n",
       "      <td>1.0</td>\n",
       "      <td>0.0</td>\n",
       "      <td>0.0</td>\n",
       "      <td>0.0</td>\n",
       "      <td>1.0</td>\n",
       "      <td>0.0</td>\n",
       "      <td>0.0</td>\n",
       "      <td>0.0</td>\n",
       "      <td>1.0</td>\n",
       "      <td>0.0</td>\n",
       "    </tr>\n",
       "    <tr>\n",
       "      <th>4</th>\n",
       "      <td>0.825209</td>\n",
       "      <td>0.399687</td>\n",
       "      <td>-0.475199</td>\n",
       "      <td>-0.474326</td>\n",
       "      <td>-0.484133</td>\n",
       "      <td>1.195266</td>\n",
       "      <td>-0.529751</td>\n",
       "      <td>0.0</td>\n",
       "      <td>1.0</td>\n",
       "      <td>0.0</td>\n",
       "      <td>0.0</td>\n",
       "      <td>1.0</td>\n",
       "      <td>0.0</td>\n",
       "      <td>0.0</td>\n",
       "      <td>1.0</td>\n",
       "      <td>0.0</td>\n",
       "      <td>0.0</td>\n",
       "    </tr>\n",
       "  </tbody>\n",
       "</table>\n",
       "</div>"
      ],
      "text/plain": [
       "     Pclass       Age     SibSp     Parch      Fare  Class*Age  Class*Fare  \\\n",
       "0  0.825209 -0.582365  0.431350 -0.474326 -0.500240   0.032301   -0.576273   \n",
       "1 -1.572211  0.626314  0.431350 -0.474326  0.788947  -0.802649    0.383878   \n",
       "2  0.825209 -0.280196 -0.475199 -0.474326 -0.486650   0.390136   -0.537020   \n",
       "3 -1.572211  0.399687  0.431350 -0.474326  0.422861  -0.892108    0.031414   \n",
       "4  0.825209  0.399687 -0.475199 -0.474326 -0.484133   1.195266   -0.529751   \n",
       "\n",
       "   Female  Male    C    Q    S  Master  Miss   Mr  Mrs  Others  \n",
       "0     0.0   1.0  0.0  0.0  1.0     0.0   0.0  1.0  0.0     0.0  \n",
       "1     1.0   0.0  1.0  0.0  0.0     0.0   0.0  0.0  1.0     0.0  \n",
       "2     1.0   0.0  0.0  0.0  1.0     0.0   1.0  0.0  0.0     0.0  \n",
       "3     1.0   0.0  0.0  0.0  1.0     0.0   0.0  0.0  1.0     0.0  \n",
       "4     0.0   1.0  0.0  0.0  1.0     0.0   0.0  1.0  0.0     0.0  "
      ]
     },
     "execution_count": 83,
     "metadata": {},
     "output_type": "execute_result"
    }
   ],
   "source": [
    "train_prep.head()"
   ]
  },
  {
   "cell_type": "markdown",
   "metadata": {},
   "source": [
    "With this, the data is finally prepared to be fed into a ML model. The label extraction for each feature could be done direclty by using a function to do so, like the one defined below."
   ]
  },
  {
   "cell_type": "code",
   "execution_count": 122,
   "metadata": {},
   "outputs": [],
   "source": [
    "def extract_feat_name(df):\n",
    "    \n",
    "    att = CombinedAttr()\n",
    "    df = att.transform(df)\n",
    "    \n",
    "    a = df.dtypes\n",
    "    num = pd.DataFrame()\n",
    "    obj = pd.DataFrame()\n",
    "    obj_encoded = pd.DataFrame()\n",
    "    \n",
    "    for i in range(len(a)):\n",
    "        if (a[i] == 'int64') or (a[i] == 'float64'):\n",
    "            num[a.index[i]] = a.index[i]\n",
    "        elif (a[i] == 'O'):\n",
    "            obj[a.index[i]] = a.index[i]\n",
    "    \n",
    "    for i in obj.columns:\n",
    "        b = df[i].value_counts()\n",
    "        for j in sorted(b.index):\n",
    "            obj_encoded[j] = j\n",
    "    \n",
    "    return list(num.columns) + list(obj_encoded.columns)"
   ]
  },
  {
   "cell_type": "markdown",
   "metadata": {},
   "source": [
    "One final note: in a real ML project, the data must be passed direclty into a pipeline, or a group of functions, in order to automatically transform the whole data in some intended manner and then be fed into the model. This can be done in this example by using the initial variables \"train_set_init\" and \"test_set_init\" stored before and defining a general transformation function. This general function, for this specific case:\n",
    "\n",
    "- Drops the \"Cabin\" feature\n",
    "- Extracts the titles from the \"Name\" feature (`extract_titles` function)\n",
    "- Impute the missing \"Age\" values by using the \"Title\" feature (`insert_age_title_based` function)\n",
    "- Simplifies the categories inside the \"Title\" feature (`simplify_titles` function) \n",
    "- Drops the \"PassengerId\", \"Name\" and \"Ticket\" features\n",
    "- Spliting the train label (target) from the train set\n",
    "- Extracts the array with features, considering the processes to be taken on the pipeline transformation (`extract_feat_name` function)\n",
    "- Passes the dataframes into the pipeline (`transform_full` function)\n",
    "- Turns the output from the pipeline transformation into a pandas DataFrame"
   ]
  },
  {
   "cell_type": "code",
   "execution_count": 130,
   "metadata": {},
   "outputs": [],
   "source": [
    "def general_transformation(df, train = True):\n",
    "    df = drop_feat(df, ['Cabin'])\n",
    "    \n",
    "    extract_titles(df)\n",
    "    insert_age_title_based(df)\n",
    "    simplify_titles(df)\n",
    "    \n",
    "    df = drop_feat(df, ['PassengerId', 'Name', 'Ticket'])\n",
    "    \n",
    "    if train == True :\n",
    "        train_df = drop_feat(df, ['Survived'])\n",
    "        train_label = df['Survived']\n",
    "        \n",
    "        cols_name = extract_feat_name(train_df)\n",
    "        \n",
    "        transformed = transform_full(train_df)\n",
    "\n",
    "        transformed = pd.DataFrame(transformed)\n",
    "        transformed.columns = cols_name\n",
    "\n",
    "        return transformed, train_label\n",
    "    else: \n",
    "        cols_name = extract_feat_name(df)\n",
    "        \n",
    "        transformed = transform_full(df)\n",
    "\n",
    "        transformed = pd.DataFrame(transformed)\n",
    "        transformed.columns = cols_name\n",
    "\n",
    "        return transformed"
   ]
  },
  {
   "cell_type": "code",
   "execution_count": 137,
   "metadata": {},
   "outputs": [],
   "source": [
    "train_set_prep, train_label_prepared = general_transformation(train_set_init)\n",
    "test_set_prep = general_transformation(test_set_init, train = False)"
   ]
  },
  {
   "cell_type": "code",
   "execution_count": 138,
   "metadata": {},
   "outputs": [
    {
     "data": {
      "text/html": [
       "<div>\n",
       "<style scoped>\n",
       "    .dataframe tbody tr th:only-of-type {\n",
       "        vertical-align: middle;\n",
       "    }\n",
       "\n",
       "    .dataframe tbody tr th {\n",
       "        vertical-align: top;\n",
       "    }\n",
       "\n",
       "    .dataframe thead th {\n",
       "        text-align: right;\n",
       "    }\n",
       "</style>\n",
       "<table border=\"1\" class=\"dataframe\">\n",
       "  <thead>\n",
       "    <tr style=\"text-align: right;\">\n",
       "      <th></th>\n",
       "      <th>Pclass</th>\n",
       "      <th>Age</th>\n",
       "      <th>SibSp</th>\n",
       "      <th>Parch</th>\n",
       "      <th>Fare</th>\n",
       "      <th>Class*Age</th>\n",
       "      <th>Class*Fare</th>\n",
       "      <th>female</th>\n",
       "      <th>male</th>\n",
       "      <th>C</th>\n",
       "      <th>Q</th>\n",
       "      <th>S</th>\n",
       "      <th>Master</th>\n",
       "      <th>Miss</th>\n",
       "      <th>Mr</th>\n",
       "      <th>Mrs</th>\n",
       "      <th>Others</th>\n",
       "    </tr>\n",
       "  </thead>\n",
       "  <tbody>\n",
       "    <tr>\n",
       "      <th>0</th>\n",
       "      <td>0.825209</td>\n",
       "      <td>-0.582365</td>\n",
       "      <td>0.431350</td>\n",
       "      <td>-0.474326</td>\n",
       "      <td>-0.500240</td>\n",
       "      <td>0.032301</td>\n",
       "      <td>-0.576273</td>\n",
       "      <td>0.0</td>\n",
       "      <td>1.0</td>\n",
       "      <td>0.0</td>\n",
       "      <td>0.0</td>\n",
       "      <td>1.0</td>\n",
       "      <td>0.0</td>\n",
       "      <td>0.0</td>\n",
       "      <td>1.0</td>\n",
       "      <td>0.0</td>\n",
       "      <td>0.0</td>\n",
       "    </tr>\n",
       "    <tr>\n",
       "      <th>1</th>\n",
       "      <td>-1.572211</td>\n",
       "      <td>0.626314</td>\n",
       "      <td>0.431350</td>\n",
       "      <td>-0.474326</td>\n",
       "      <td>0.788947</td>\n",
       "      <td>-0.802649</td>\n",
       "      <td>0.383878</td>\n",
       "      <td>1.0</td>\n",
       "      <td>0.0</td>\n",
       "      <td>1.0</td>\n",
       "      <td>0.0</td>\n",
       "      <td>0.0</td>\n",
       "      <td>0.0</td>\n",
       "      <td>0.0</td>\n",
       "      <td>0.0</td>\n",
       "      <td>1.0</td>\n",
       "      <td>0.0</td>\n",
       "    </tr>\n",
       "    <tr>\n",
       "      <th>2</th>\n",
       "      <td>0.825209</td>\n",
       "      <td>-0.280196</td>\n",
       "      <td>-0.475199</td>\n",
       "      <td>-0.474326</td>\n",
       "      <td>-0.486650</td>\n",
       "      <td>0.390136</td>\n",
       "      <td>-0.537020</td>\n",
       "      <td>1.0</td>\n",
       "      <td>0.0</td>\n",
       "      <td>0.0</td>\n",
       "      <td>0.0</td>\n",
       "      <td>1.0</td>\n",
       "      <td>0.0</td>\n",
       "      <td>1.0</td>\n",
       "      <td>0.0</td>\n",
       "      <td>0.0</td>\n",
       "      <td>0.0</td>\n",
       "    </tr>\n",
       "    <tr>\n",
       "      <th>3</th>\n",
       "      <td>-1.572211</td>\n",
       "      <td>0.399687</td>\n",
       "      <td>0.431350</td>\n",
       "      <td>-0.474326</td>\n",
       "      <td>0.422861</td>\n",
       "      <td>-0.892108</td>\n",
       "      <td>0.031414</td>\n",
       "      <td>1.0</td>\n",
       "      <td>0.0</td>\n",
       "      <td>0.0</td>\n",
       "      <td>0.0</td>\n",
       "      <td>1.0</td>\n",
       "      <td>0.0</td>\n",
       "      <td>0.0</td>\n",
       "      <td>0.0</td>\n",
       "      <td>1.0</td>\n",
       "      <td>0.0</td>\n",
       "    </tr>\n",
       "    <tr>\n",
       "      <th>4</th>\n",
       "      <td>0.825209</td>\n",
       "      <td>0.399687</td>\n",
       "      <td>-0.475199</td>\n",
       "      <td>-0.474326</td>\n",
       "      <td>-0.484133</td>\n",
       "      <td>1.195266</td>\n",
       "      <td>-0.529751</td>\n",
       "      <td>0.0</td>\n",
       "      <td>1.0</td>\n",
       "      <td>0.0</td>\n",
       "      <td>0.0</td>\n",
       "      <td>1.0</td>\n",
       "      <td>0.0</td>\n",
       "      <td>0.0</td>\n",
       "      <td>1.0</td>\n",
       "      <td>0.0</td>\n",
       "      <td>0.0</td>\n",
       "    </tr>\n",
       "  </tbody>\n",
       "</table>\n",
       "</div>"
      ],
      "text/plain": [
       "     Pclass       Age     SibSp     Parch      Fare  Class*Age  Class*Fare  \\\n",
       "0  0.825209 -0.582365  0.431350 -0.474326 -0.500240   0.032301   -0.576273   \n",
       "1 -1.572211  0.626314  0.431350 -0.474326  0.788947  -0.802649    0.383878   \n",
       "2  0.825209 -0.280196 -0.475199 -0.474326 -0.486650   0.390136   -0.537020   \n",
       "3 -1.572211  0.399687  0.431350 -0.474326  0.422861  -0.892108    0.031414   \n",
       "4  0.825209  0.399687 -0.475199 -0.474326 -0.484133   1.195266   -0.529751   \n",
       "\n",
       "   female  male    C    Q    S  Master  Miss   Mr  Mrs  Others  \n",
       "0     0.0   1.0  0.0  0.0  1.0     0.0   0.0  1.0  0.0     0.0  \n",
       "1     1.0   0.0  1.0  0.0  0.0     0.0   0.0  0.0  1.0     0.0  \n",
       "2     1.0   0.0  0.0  0.0  1.0     0.0   1.0  0.0  0.0     0.0  \n",
       "3     1.0   0.0  0.0  0.0  1.0     0.0   0.0  0.0  1.0     0.0  \n",
       "4     0.0   1.0  0.0  0.0  1.0     0.0   0.0  1.0  0.0     0.0  "
      ]
     },
     "execution_count": 138,
     "metadata": {},
     "output_type": "execute_result"
    }
   ],
   "source": [
    "train_set_prep.head()"
   ]
  },
  {
   "cell_type": "code",
   "execution_count": 140,
   "metadata": {},
   "outputs": [
    {
     "name": "stdout",
     "output_type": "stream",
     "text": [
      "Number of instances : 889\n",
      "Number of variables : 17\n",
      "--------------------\n",
      "Attributes, data type and ratio of unique instances por total non-null:\n",
      "\t - Pclass, float64, 3/889\n",
      "\t - Age, float64, 92/889\n",
      "\t - SibSp, float64, 7/889\n",
      "\t - Parch, float64, 7/889\n",
      "\t - Fare, float64, 247/889\n",
      "\t - Class*Age, float64, 137/889\n",
      "\t - Class*Fare, float64, 246/889\n",
      "\t - female, float64, 2/889\n",
      "\t - male, float64, 2/889\n",
      "\t - C, float64, 2/889\n",
      "\t - Q, float64, 2/889\n",
      "\t - S, float64, 2/889\n",
      "\t - Master, float64, 2/889\n",
      "\t - Miss, float64, 2/889\n",
      "\t - Mr, float64, 2/889\n",
      "\t - Mrs, float64, 2/889\n",
      "\t - Others, float64, 2/889\n",
      "--------------------\n",
      "Attributes that have missing values: \n",
      "Series([], dtype: int64)\n",
      "--------------------\n",
      "Pictorial representation of missing values:\n"
     ]
    },
    {
     "data": {
      "image/png": "[encoded data removed]",
      "text/plain": [
       "<Figure size 720x576 with 2 Axes>"
      ]
     },
     "metadata": {
      "needs_background": "light"
     },
     "output_type": "display_data"
    }
   ],
   "source": [
    "data_investigation(train_set_prep)"
   ]
  },
  {
   "cell_type": "code",
   "execution_count": 141,
   "metadata": {},
   "outputs": [
    {
     "data": {
      "text/html": [
       "<div>\n",
       "<style scoped>\n",
       "    .dataframe tbody tr th:only-of-type {\n",
       "        vertical-align: middle;\n",
       "    }\n",
       "\n",
       "    .dataframe tbody tr th {\n",
       "        vertical-align: top;\n",
       "    }\n",
       "\n",
       "    .dataframe thead th {\n",
       "        text-align: right;\n",
       "    }\n",
       "</style>\n",
       "<table border=\"1\" class=\"dataframe\">\n",
       "  <thead>\n",
       "    <tr style=\"text-align: right;\">\n",
       "      <th></th>\n",
       "      <th>Pclass</th>\n",
       "      <th>Age</th>\n",
       "      <th>SibSp</th>\n",
       "      <th>Parch</th>\n",
       "      <th>Fare</th>\n",
       "      <th>Class*Age</th>\n",
       "      <th>Class*Fare</th>\n",
       "      <th>female</th>\n",
       "      <th>male</th>\n",
       "      <th>C</th>\n",
       "      <th>Q</th>\n",
       "      <th>S</th>\n",
       "      <th>Dona</th>\n",
       "      <th>Master</th>\n",
       "      <th>Miss</th>\n",
       "      <th>Mr</th>\n",
       "      <th>Mrs</th>\n",
       "      <th>Others</th>\n",
       "    </tr>\n",
       "  </thead>\n",
       "  <tbody>\n",
       "    <tr>\n",
       "      <th>0</th>\n",
       "      <td>0.873482</td>\n",
       "      <td>0.330060</td>\n",
       "      <td>-0.499470</td>\n",
       "      <td>-0.400248</td>\n",
       "      <td>-0.498407</td>\n",
       "      <td>1.342412</td>\n",
       "      <td>-0.541383</td>\n",
       "      <td>0.0</td>\n",
       "      <td>1.0</td>\n",
       "      <td>0.0</td>\n",
       "      <td>1.0</td>\n",
       "      <td>0.0</td>\n",
       "      <td>0.0</td>\n",
       "      <td>0.0</td>\n",
       "      <td>0.0</td>\n",
       "      <td>1.0</td>\n",
       "      <td>0.0</td>\n",
       "      <td>0.0</td>\n",
       "    </tr>\n",
       "    <tr>\n",
       "      <th>1</th>\n",
       "      <td>0.873482</td>\n",
       "      <td>1.292006</td>\n",
       "      <td>0.616992</td>\n",
       "      <td>-0.400248</td>\n",
       "      <td>-0.513274</td>\n",
       "      <td>2.602334</td>\n",
       "      <td>-0.585997</td>\n",
       "      <td>1.0</td>\n",
       "      <td>0.0</td>\n",
       "      <td>0.0</td>\n",
       "      <td>0.0</td>\n",
       "      <td>1.0</td>\n",
       "      <td>0.0</td>\n",
       "      <td>0.0</td>\n",
       "      <td>0.0</td>\n",
       "      <td>0.0</td>\n",
       "      <td>1.0</td>\n",
       "      <td>0.0</td>\n",
       "    </tr>\n",
       "    <tr>\n",
       "      <th>2</th>\n",
       "      <td>-0.315819</td>\n",
       "      <td>2.446342</td>\n",
       "      <td>-0.499470</td>\n",
       "      <td>-0.400248</td>\n",
       "      <td>-0.465088</td>\n",
       "      <td>2.031169</td>\n",
       "      <td>-0.615141</td>\n",
       "      <td>0.0</td>\n",
       "      <td>1.0</td>\n",
       "      <td>0.0</td>\n",
       "      <td>1.0</td>\n",
       "      <td>0.0</td>\n",
       "      <td>0.0</td>\n",
       "      <td>0.0</td>\n",
       "      <td>0.0</td>\n",
       "      <td>1.0</td>\n",
       "      <td>0.0</td>\n",
       "      <td>0.0</td>\n",
       "    </tr>\n",
       "    <tr>\n",
       "      <th>3</th>\n",
       "      <td>0.873482</td>\n",
       "      <td>-0.247108</td>\n",
       "      <td>-0.499470</td>\n",
       "      <td>-0.400248</td>\n",
       "      <td>-0.483466</td>\n",
       "      <td>0.586459</td>\n",
       "      <td>-0.496548</td>\n",
       "      <td>0.0</td>\n",
       "      <td>1.0</td>\n",
       "      <td>0.0</td>\n",
       "      <td>0.0</td>\n",
       "      <td>1.0</td>\n",
       "      <td>0.0</td>\n",
       "      <td>0.0</td>\n",
       "      <td>0.0</td>\n",
       "      <td>1.0</td>\n",
       "      <td>0.0</td>\n",
       "      <td>0.0</td>\n",
       "    </tr>\n",
       "    <tr>\n",
       "      <th>4</th>\n",
       "      <td>0.873482</td>\n",
       "      <td>-0.631887</td>\n",
       "      <td>0.616992</td>\n",
       "      <td>0.619896</td>\n",
       "      <td>-0.418471</td>\n",
       "      <td>0.082491</td>\n",
       "      <td>-0.301508</td>\n",
       "      <td>1.0</td>\n",
       "      <td>0.0</td>\n",
       "      <td>0.0</td>\n",
       "      <td>0.0</td>\n",
       "      <td>1.0</td>\n",
       "      <td>0.0</td>\n",
       "      <td>0.0</td>\n",
       "      <td>0.0</td>\n",
       "      <td>0.0</td>\n",
       "      <td>1.0</td>\n",
       "      <td>0.0</td>\n",
       "    </tr>\n",
       "  </tbody>\n",
       "</table>\n",
       "</div>"
      ],
      "text/plain": [
       "     Pclass       Age     SibSp     Parch      Fare  Class*Age  Class*Fare  \\\n",
       "0  0.873482  0.330060 -0.499470 -0.400248 -0.498407   1.342412   -0.541383   \n",
       "1  0.873482  1.292006  0.616992 -0.400248 -0.513274   2.602334   -0.585997   \n",
       "2 -0.315819  2.446342 -0.499470 -0.400248 -0.465088   2.031169   -0.615141   \n",
       "3  0.873482 -0.247108 -0.499470 -0.400248 -0.483466   0.586459   -0.496548   \n",
       "4  0.873482 -0.631887  0.616992  0.619896 -0.418471   0.082491   -0.301508   \n",
       "\n",
       "   female  male    C    Q    S  Dona  Master  Miss   Mr  Mrs  Others  \n",
       "0     0.0   1.0  0.0  1.0  0.0   0.0     0.0   0.0  1.0  0.0     0.0  \n",
       "1     1.0   0.0  0.0  0.0  1.0   0.0     0.0   0.0  0.0  1.0     0.0  \n",
       "2     0.0   1.0  0.0  1.0  0.0   0.0     0.0   0.0  1.0  0.0     0.0  \n",
       "3     0.0   1.0  0.0  0.0  1.0   0.0     0.0   0.0  1.0  0.0     0.0  \n",
       "4     1.0   0.0  0.0  0.0  1.0   0.0     0.0   0.0  0.0  1.0     0.0  "
      ]
     },
     "execution_count": 141,
     "metadata": {},
     "output_type": "execute_result"
    }
   ],
   "source": [
    "test_set_prep.head()"
   ]
  },
  {
   "cell_type": "code",
   "execution_count": 143,
   "metadata": {},
   "outputs": [
    {
     "name": "stdout",
     "output_type": "stream",
     "text": [
      "Number of instances : 418\n",
      "Number of variables : 18\n",
      "--------------------\n",
      "Attributes, data type and ratio of unique instances por total non-null:\n",
      "\t - Pclass, float64, 3/418\n",
      "\t - Age, float64, 83/418\n",
      "\t - SibSp, float64, 7/418\n",
      "\t - Parch, float64, 8/418\n",
      "\t - Fare, float64, 170/418\n",
      "\t - Class*Age, float64, 115/418\n",
      "\t - Class*Fare, float64, 167/418\n",
      "\t - female, float64, 2/418\n",
      "\t - male, float64, 2/418\n",
      "\t - C, float64, 2/418\n",
      "\t - Q, float64, 2/418\n",
      "\t - S, float64, 2/418\n",
      "\t - Dona, float64, 2/418\n",
      "\t - Master, float64, 2/418\n",
      "\t - Miss, float64, 2/418\n",
      "\t - Mr, float64, 2/418\n",
      "\t - Mrs, float64, 2/418\n",
      "\t - Others, float64, 2/418\n",
      "--------------------\n",
      "Attributes that have missing values: \n",
      "Series([], dtype: int64)\n",
      "--------------------\n",
      "Pictorial representation of missing values:\n"
     ]
    },
    {
     "data": {
      "image/png": "[encoded data removed]",
      "text/plain": [
       "<Figure size 720x576 with 2 Axes>"
      ]
     },
     "metadata": {
      "needs_background": "light"
     },
     "output_type": "display_data"
    }
   ],
   "source": [
    "data_investigation(test_set_prep)"
   ]
  },
  {
   "cell_type": "markdown",
   "metadata": {},
   "source": [
    "## Model analysis"
   ]
  },
  {
   "cell_type": "markdown",
   "metadata": {},
   "source": []
  }
 ],
 "metadata": {
  "kernelspec": {
   "display_name": "Python 3",
   "language": "python",
   "name": "python3"
  },
  "language_info": {
   "codemirror_mode": {
    "name": "ipython",
    "version": 3
   },
   "file_extension": ".py",
   "mimetype": "text/x-python",
   "name": "python",
   "nbconvert_exporter": "python",
   "pygments_lexer": "ipython3",
   "version": "3.6.9"
  }
 },
 "nbformat": 4,
 "nbformat_minor": 4
}
